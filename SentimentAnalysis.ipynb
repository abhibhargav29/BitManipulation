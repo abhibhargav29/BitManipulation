{
 "cells": [
  {
   "cell_type": "markdown",
   "metadata": {},
   "source": [
    "# Sentiment Analysis Tweets"
   ]
  },
  {
   "cell_type": "markdown",
   "metadata": {},
   "source": [
    "## Extract Data"
   ]
  },
  {
   "cell_type": "code",
   "execution_count": 255,
   "metadata": {},
   "outputs": [
    {
     "name": "stdout",
     "output_type": "stream",
     "text": [
      "Initial Shape of train data: (3317, 3)\n",
      "Final shape of train dataset: (2394, 3)\n",
      "                                                text  intensity  emotion\n",
      "0  How the fu*k! Who the heck! moved my fridge!.....      0.938        0\n",
      "1  So my Indian Uber driver just called someone t...      0.896        0\n",
      "2  @DPD_UK I asked for my parcel to be delivered ...      0.896        0\n",
      "3  so ef whichever butt wipe pulled the fire alar...      0.896        0\n",
      "4  Don't join @BTCare they put the phone down on ...      0.896        0\n",
      "5                                My blood is boiling      0.875        0\n",
      "6  When you've still got a whole season of Wentwo...      0.875        0\n",
      "7  @bt_uk why does tracking show my equipment del...      0.875        0\n",
      "8  @TeamShanny legit why i am so furious with him...      0.875        0\n",
      "9  How is it suppose to work if you do that? Wtf ...      0.875        0\n",
      "\n",
      "Initial Shape of CV data: (347, 3)\n",
      "Final shape of CV data: (228, 3)\n",
      "                                                text  intensity  emotion\n",
      "0  @ZubairSabirPTI  pls dont insult the word 'Molna'      0.479        0\n",
      "1  @ArcticFantasy I would have almost took offens...      0.458        0\n",
      "2  @IllinoisLoyalty that Rutgers game was an abom...      0.562        0\n",
      "3  @CozanGaming that's what lisa asked before she...      0.500        0\n",
      "4  Sometimes I get mad over something so minuscul...      0.708        0\n",
      "5  Sometimes I get mad over something so minuscul...      0.646        0\n",
      "6  My eyes have been dilated. I hate the world ri...      0.812        0\n",
      "7  @huwellwell One chosen by the CLP members! MP ...      0.682        0\n",
      "8  @huwellwell One chosen by the CLP members! MP ...      0.438        0\n",
      "9  @Yoshi_OnoChin can you please not have Canadia...      0.646        0\n",
      "\n",
      "Initial Shape of Test data: (1454, 3)\n",
      "Final shape of Test data: (995, 3)\n",
      "                                                text  intensity  emotion\n",
      "0  This game has pissed me off more than any othe...      0.898        0\n",
      "1  @moocowward @mrsajhargreaves @Melly77 @GaryBar...      0.646        0\n",
      "2  @moocowward @mrsajhargreaves @Melly77 @GaryBar...      0.583        0\n",
      "3  @virginmedia I've been disconnected whilst on ...      0.625        0\n",
      "4       @shae_caitlin ur road rage gives me anxiety.      0.438        0\n",
      "5  @eMilsOnWheels I'm furious Ã°Å¸ËœÂ©Ã°Å¸ËœÂ©Ã°Å...      0.708        0\n",
      "6  They gonna give this KKk police bitch the mini...      0.877        0\n",
      "7  They gonna give this KKk police bitch the mini...      0.708        0\n",
      "8           I just got murdered in madden. Ã°Å¸Â¤â€¢      0.417        0\n",
      "9  new madden 16 video was gonna be up but xbox i...      0.667        0\n"
     ]
    }
   ],
   "source": [
    "import pandas as pd\n",
    "import numpy as np\n",
    "import matplotlib.pyplot as plt\n",
    "\n",
    "\n",
    "#Train Data\n",
    "trainDf =  pd.read_csv('Train.txt', sep='\t', names=[\"id\",\"text\",\"emotion\",\"intensity\"], engine='python')\n",
    "trainDf=trainDf.drop(\"id\",axis=1)\n",
    "print(\"Initial Shape of train data:\",trainDf.shape)\n",
    "\n",
    "AngerDf = trainDf[trainDf[\"emotion\"]==\"anger\"].drop(\"emotion\",axis=1)\n",
    "AngerDf = AngerDf[AngerDf[\"intensity\"]>=0.4]\n",
    "AngerDf[\"emotion\"] = 0\n",
    "\n",
    "FearDf = trainDf[trainDf[\"emotion\"]==\"fear\"].drop(\"emotion\",axis=1)\n",
    "FearDf = FearDf[FearDf[\"intensity\"]>=0.4]\n",
    "FearDf[\"emotion\"] = 1\n",
    "\n",
    "JoyDf = trainDf[trainDf[\"emotion\"]==\"joy\"].drop(\"emotion\",axis=1)\n",
    "JoyDf = JoyDf[JoyDf[\"intensity\"]>=0.4]\n",
    "JoyDf[\"emotion\"] = 2\n",
    "\n",
    "SadDf = trainDf[trainDf[\"emotion\"]==\"sadness\"].drop(\"emotion\",axis=1)\n",
    "SadDf = SadDf[SadDf[\"intensity\"]>=0.4]\n",
    "SadDf[\"emotion\"] = 3\n",
    "\n",
    "trainDf = pd.concat([AngerDf,FearDf,JoyDf,SadDf],ignore_index=True)\n",
    "print(\"Final shape of train dataset:\",trainDf.shape)\n",
    "print(trainDf.head(10))\n",
    "print()\n",
    "\n",
    "\n",
    "#Cross Validation Data\n",
    "crossValDf =  pd.read_csv('CrossValidate.txt', sep='\t', names=[\"id\",\"text\",\"emotion\",\"intensity\"], engine='python')\n",
    "crossValDf=crossValDf.drop(\"id\",axis=1)\n",
    "print(\"Initial Shape of CV data:\",crossValDf.shape)\n",
    "\n",
    "\n",
    "AngerDf = crossValDf[crossValDf[\"emotion\"]==\"anger\"].drop(\"emotion\",axis=1)\n",
    "AngerDf = AngerDf[AngerDf[\"intensity\"]>0.4]\n",
    "AngerDf[\"emotion\"] = 0\n",
    "\n",
    "FearDf = crossValDf[crossValDf[\"emotion\"]==\"fear\"].drop(\"emotion\",axis=1)\n",
    "FearDf = FearDf[FearDf[\"intensity\"]>=0.4]\n",
    "FearDf[\"emotion\"] = 1\n",
    "\n",
    "JoyDf = crossValDf[crossValDf[\"emotion\"]==\"joy\"].drop(\"emotion\",axis=1)\n",
    "JoyDf = JoyDf[JoyDf[\"intensity\"]>=0.4]\n",
    "JoyDf[\"emotion\"] = 2\n",
    "\n",
    "SadDf = crossValDf[crossValDf[\"emotion\"]==\"sadness\"].drop(\"emotion\",axis=1)\n",
    "SadDf = SadDf[SadDf[\"intensity\"]>=0.4]\n",
    "SadDf[\"emotion\"] = 3\n",
    "\n",
    "crossValDf = pd.concat([AngerDf,FearDf,JoyDf,SadDf],ignore_index=True)\n",
    "print(\"Final shape of CV data:\",crossValDf.shape)\n",
    "print(crossValDf.head(10))\n",
    "print()\n",
    "\n",
    "\n",
    "#Test Data\n",
    "testDf =  pd.read_csv('Test.txt', sep='\t', names=[\"id\",\"text\",\"emotion\",\"intensity\"], engine='python')\n",
    "testDf=testDf.drop(\"id\",axis=1)\n",
    "print(\"Initial Shape of Test data:\",testDf.shape)\n",
    "\n",
    "\n",
    "AngerDf = testDf[testDf[\"emotion\"]==\"anger\"].drop(\"emotion\",axis=1)\n",
    "AngerDf = AngerDf[AngerDf[\"intensity\"]>=0.4]\n",
    "AngerDf[\"emotion\"] = 0\n",
    "\n",
    "FearDf = testDf[testDf[\"emotion\"]==\"fear\"].drop(\"emotion\",axis=1)\n",
    "FearDf = FearDf[FearDf[\"intensity\"]>=0.4]\n",
    "FearDf[\"emotion\"] = 1\n",
    "\n",
    "JoyDf = testDf[testDf[\"emotion\"]==\"joy\"].drop(\"emotion\",axis=1)\n",
    "JoyDf = JoyDf[JoyDf[\"intensity\"]>=0.4]\n",
    "JoyDf[\"emotion\"] = 2\n",
    "\n",
    "SadDf = testDf[testDf[\"emotion\"]==\"sadness\"].drop(\"emotion\",axis=1)\n",
    "SadDf = SadDf[SadDf[\"intensity\"]>=0.4]\n",
    "SadDf[\"emotion\"] = 3\n",
    "\n",
    "testDf = pd.concat([AngerDf,FearDf,JoyDf,SadDf],ignore_index=True)\n",
    "print(\"Final shape of Test data:\",testDf.shape)\n",
    "print(testDf.head(10))"
   ]
  },
  {
   "cell_type": "code",
   "execution_count": 256,
   "metadata": {},
   "outputs": [],
   "source": [
    "data_train= trainDf.drop([\"intensity\"],axis=1)\n",
    "data_cv   = crossValDf.drop([\"intensity\"],axis=1)\n",
    "data_test = testDf.drop([\"intensity\"],axis=1)\n",
    "\n",
    "# emotion=0 means anger\n",
    "# emotion=1 means fear\n",
    "# emotion=2 means joy\n",
    "# emotion=3 means sadness"
   ]
  },
  {
   "cell_type": "markdown",
   "metadata": {},
   "source": [
    "## Text Cleaning"
   ]
  },
  {
   "cell_type": "code",
   "execution_count": 257,
   "metadata": {},
   "outputs": [
    {
     "name": "stderr",
     "output_type": "stream",
     "text": [
      "[nltk_data] Downloading package stopwords to\n",
      "[nltk_data]     C:\\Users\\DELL\\AppData\\Roaming\\nltk_data...\n",
      "[nltk_data]   Package stopwords is already up-to-date!\n"
     ]
    },
    {
     "name": "stdout",
     "output_type": "stream",
     "text": [
      "                                                text  emotion\n",
      "0  [fuk, heck, move, fridg, knock, landlord, door...        0\n",
      "1  [indian, uber, driver, call, someon, n, word, ...        0\n",
      "2  [ask, parcel, deliv, pick, store, address, fum...        0\n",
      "3  [ef, whichev, butt, wipe, pull, fire, alarm, d...        0\n",
      "4  [join, btcare, put, phone, talk, rude, take, m...        0\n",
      "5                                      [blood, boil]        0\n",
      "6  [still, got, whole, season, wentworth, watch, ...        0\n",
      "7  [track, show, equip, deliv, servic, sudden, de...        0\n",
      "8               [legit, furious, peopl, fuck, idiot]        0\n",
      "9             [suppos, work, wtf, dude, thank, piss]        0\n",
      "\n",
      "                                                text  emotion\n",
      "0   fuk heck move fridg knock landlord door angri...        0\n",
      "1   indian uber driver call someon n word move ve...        0\n",
      "2   ask parcel deliv pick store not address fume ...        0\n",
      "3   ef whichev butt wipe pull fire alarm davi bc ...        0\n",
      "4   join btcare put phone talk rude take money ac...        0\n",
      "5                                         blood boil        0\n",
      "6   still got whole season wentworth watch stupid...        0\n",
      "7   track show equip deliv servic sudden delay al...        0\n",
      "8                     legit furious peopl fuck idiot        0\n",
      "9                     suppo work wtf dude thank piss        0\n",
      "\n",
      "                                                text  emotion\n",
      "0                   [pls, dont, insult, word, molna]        0\n",
      "1        [would, almost, took, offens, actual, snap]        0\n",
      "2  [rutger, game, abomin, affront, god, man, must...        0\n",
      "3                [lisa, ask, start, rage, call, heh]        0\n",
      "4  [sometim, get, mad, someth, minuscul, tri, rui...        0\n",
      "5  [sometim, get, mad, someth, minuscul, tri, rui...        0\n",
      "6  [eye, dilat, hate, world, right, rage, thousan...        0\n",
      "7  [one, chosen, clp, member, mp, seat, peopl, do...        0\n",
      "8  [one, chosen, clp, member, mp, seat, peopl, do...        0\n",
      "9  [pleas, canadian, player, play, us, player, la...        0\n",
      "\n",
      "                                                text  emotion\n",
      "0                         pls dont insult word molna        0\n",
      "1               would almost took offens actual snap        0\n",
      "2   rutger game abomin affront god man must never...        0\n",
      "3                       lisa ask start rage call heh        0\n",
      "4   sometim get mad someth minuscul tri ruin some...        0\n",
      "5   sometim get mad someth minuscul tri ruin some...        0\n",
      "6   eye dilat hate world right rage thousand fier...        0\n",
      "7   one chosen clp member mp seat peopl dole mate...        0\n",
      "8   one chosen clp member mp seat peopl dole mate...        0\n",
      "9   pleas canadian player play us player lag atro...        0\n",
      "\n",
      "                                                text  emotion\n",
      "0  [game, piss, game, year, blood, boil, time, tu...        0\n",
      "1  [mrsajhargreav, melli, garybarlow, come, mum, ...        0\n",
      "2  [mrsajhargreav, melli, garybarlow, come, mum, ...        0\n",
      "3  [disconnect, whilst, holiday, move, hous, st, ...        0\n",
      "4                    [ur, road, rage, give, anxieti]        0\n",
      "5                                          [furious]        0\n",
      "6  [gonna, give, kkk, polic, bitch, minimum, sent...        0\n",
      "7  [gonna, give, kkk, polic, bitch, minimum, sent...        0\n",
      "8                              [got, murder, madden]        0\n",
      "9  [new, madden, video, gonna, xbox, ahol, go, st...        0\n",
      "                                                text  emotion\n",
      "0   game piss game year blood boil time turn stlcard        0\n",
      "1   mrsajhargreav melli garybarlow come mum th k ...        0\n",
      "2   mrsajhargreav melli garybarlow come mum th k ...        0\n",
      "3   disconnect whilst holiday move hous st octob ...        0\n",
      "4                          ur road rage give anxieti        0\n",
      "5                                            furious        0\n",
      "6   gonna give kkk polic bitch minimum sentenc wa...        0\n",
      "7   gonna give kkk polic bitch minimum sentenc wa...        0\n",
      "8                                  got murder madden        0\n",
      "9        new madden video gonna xbox ahol go struggl        0\n"
     ]
    }
   ],
   "source": [
    "import re\n",
    "import nltk\n",
    "from nltk.corpus import stopwords\n",
    "nltk.download(\"stopwords\")\n",
    "\n",
    "#Get set of english stop words and prepare stemmer\n",
    "#Stop words for bag of words are different because we will use bigrams\n",
    "stop=set(stopwords.words(\"english\"))\n",
    "stop_bow = set(stopwords.words(\"english\"))\n",
    "stop_bow.discard(\"not\")\n",
    "stop_bow.discard(\"no\")\n",
    "sno = nltk.stem.SnowballStemmer(\"english\")\n",
    "\n",
    "#Train data cleaning\n",
    "train_text=data_train[\"text\"]\n",
    "cleaned_text_bow=[]\n",
    "cleaned_text=[]\n",
    "for line in train_text:\n",
    "    #Removing tags(ex-@abhishek is a name and not needed)\n",
    "    tags = re.compile(\"^@[a-zA-Z_]*\")\n",
    "    line = re.sub(tags,\" \",line)\n",
    "    #Replacing # and * with a \"\"\n",
    "    hashtags = re.compile(\"#|\\*\")\n",
    "    line = re.sub(hashtags,\"\",line)\n",
    "    #Replacing all other characters with a space\n",
    "    extraCharacters = re.compile(\"[^a-zA-Z]\")\n",
    "    line = re.sub(extraCharacters,\" \",line)\n",
    "\n",
    "    #Conversion of line to array of words for word2vec\n",
    "    filtered_words=[]\n",
    "    filtered_words_bow=\"\"\n",
    "    for word in line.split():\n",
    "        word=word.lower()\n",
    "        if(word not in stop):\n",
    "            word = sno.stem(word)\n",
    "            filtered_words.append(word)\n",
    "        if(word not in stop_bow):\n",
    "            word = sno.stem(word)\n",
    "            filtered_words_bow+=\" \"+word\n",
    "    cleaned_text.append(filtered_words)\n",
    "    cleaned_text_bow.append(filtered_words_bow)\n",
    "            \n",
    "data_train_bow = pd.DataFrame(data=cleaned_text_bow,columns=[\"text\"])\n",
    "data_train_bow[\"emotion\"] = data_train[\"emotion\"]\n",
    "data_train[\"text\"]=cleaned_text\n",
    "print(data_train.head(10))\n",
    "print()\n",
    "print(data_train_bow.head(10))\n",
    "print()\n",
    "\n",
    "#Cross Validate data cleaning\n",
    "cv_text=data_cv[\"text\"][0:]\n",
    "cleaned_text=[]\n",
    "cleaned_text_bow=[]\n",
    "for line in cv_text:\n",
    "    #Removing tags(ex-@abhishek is a name and not needed)\n",
    "    tags = re.compile(\"^@[a-zA-Z_]*\")\n",
    "    line = re.sub(tags,\" \",line)\n",
    "    #Replacing # and * with \"\" \n",
    "    hashtags = re.compile(\"#|\\*\")\n",
    "    line = re.sub(hashtags,\"\",line)\n",
    "    #Replacing all other characters with a space\n",
    "    extraCharacters = re.compile(\"[^a-zA-Z]\")\n",
    "    line = re.sub(extraCharacters,\" \",line)\n",
    "    \n",
    "    #Conversion of line to array of words\n",
    "    filtered_words=[]\n",
    "    filtered_words_bow=\"\"\n",
    "    for word in line.split():\n",
    "        word=word.lower()\n",
    "        if(word not in stop):\n",
    "            word = sno.stem(word)\n",
    "            filtered_words.append(word)\n",
    "            filtered_words_bow+=\" \"+word\n",
    "    cleaned_text.append(filtered_words)\n",
    "    cleaned_text_bow.append(filtered_words_bow)\n",
    "            \n",
    "data_cv_bow = pd.DataFrame(data=cleaned_text_bow, columns=[\"text\"])\n",
    "data_cv_bow[\"emotion\"]=data_cv[\"emotion\"]\n",
    "data_cv[\"text\"]=cleaned_text\n",
    "print(data_cv.head(10))\n",
    "print()\n",
    "print(data_cv_bow.head(10))\n",
    "print()\n",
    "\n",
    "#Test data cleaning\n",
    "test_text=data_test[\"text\"][0:]\n",
    "cleaned_text=[]\n",
    "cleaned_text_bow=[]\n",
    "for line in test_text:\n",
    "    #Removing tags(ex-@abhishek is a name and not needed)\n",
    "    tags = re.compile(\"^@[a-zA-Z_]*\")\n",
    "    line = re.sub(tags,\" \",line)\n",
    "    #Replacing hash and * with \"\"\n",
    "    hashtags = re.compile(\"#|\\*\")\n",
    "    line = re.sub(hashtags,\"\",line)\n",
    "    #Replacing all other characters with a space\n",
    "    extraCharacters = re.compile(\"[^a-zA-Z]\")\n",
    "    line = re.sub(extraCharacters,\" \",line)\n",
    "    \n",
    "    #Conversion of line to array of words\n",
    "    filtered_words=[]\n",
    "    filtered_words_bow=\"\"\n",
    "    for word in line.split():\n",
    "        word=word.lower()\n",
    "        if(word not in stop):\n",
    "            word = sno.stem(word)\n",
    "            filtered_words.append(word)\n",
    "            filtered_words_bow+=\" \"+word\n",
    "    cleaned_text.append(filtered_words)\n",
    "    cleaned_text_bow.append(filtered_words_bow)\n",
    "            \n",
    "data_test_bow = pd.DataFrame(data=cleaned_text_bow, columns=[\"text\"])\n",
    "data_test_bow[\"emotion\"]=data_test[\"emotion\"]\n",
    "data_test[\"text\"]=cleaned_text\n",
    "print(data_test.head(10))\n",
    "print(data_test_bow.head(10))"
   ]
  },
  {
   "cell_type": "markdown",
   "metadata": {},
   "source": [
    "## Text Vectorization(Word2Vec)"
   ]
  },
  {
   "cell_type": "code",
   "execution_count": 258,
   "metadata": {},
   "outputs": [
    {
     "name": "stderr",
     "output_type": "stream",
     "text": [
      "100%|████████████████████████████████████████████████████████████████████████████| 2394/2394 [00:00<00:00, 4920.36it/s]\n"
     ]
    },
    {
     "name": "stdout",
     "output_type": "stream",
     "text": [
      "          0         1         2         3         4         5         6  \\\n",
      "0 -0.256031  0.416642  0.883152  0.659077 -1.012558  0.560030  0.472492   \n",
      "1  0.012878  0.934142 -0.270244  0.244540 -0.430448  0.113729  0.012104   \n",
      "2 -1.326502  1.254599  1.553460  1.347344 -0.917616  1.344142  1.195572   \n",
      "3 -0.863442  0.650688  1.058792  1.067157 -0.757091  1.092978  0.902667   \n",
      "4 -0.485499  0.145578 -0.082769  0.551537 -0.495271  0.398566  0.680472   \n",
      "5 -1.409987  1.067467  1.135868  0.998738 -0.859007  0.729790  1.451726   \n",
      "6  0.793681 -1.009446 -0.970492 -0.834291  0.667969 -0.799552 -0.766050   \n",
      "7 -0.859762  0.804463  1.332343  0.758750 -0.352869  0.890767  0.865656   \n",
      "8  1.031064 -1.617002 -1.385605 -1.306999  0.073820 -1.522370 -0.960567   \n",
      "9 -0.566352 -0.056216  1.163785  0.666388 -0.475294  0.580893  0.901171   \n",
      "\n",
      "          7         8         9  ...       191       192       193       194  \\\n",
      "0  0.553827 -0.230790  0.146873  ... -0.507270  0.617655 -0.582348  0.651934   \n",
      "1  0.098237 -0.030652 -0.052362  ... -0.351505  0.111662 -0.431271  0.345429   \n",
      "2  1.045369 -0.690756  1.447136  ... -1.552342  1.169700  0.800055  1.351539   \n",
      "3  0.565974 -0.861114  1.158756  ... -0.589359  0.812952 -0.259116  0.921922   \n",
      "4  0.403489 -0.516291  0.230725  ... -0.403730  0.371410  0.787605 -0.677320   \n",
      "5 -0.406039 -0.084858  0.497784  ... -1.902428  1.397775  2.544308  2.858300   \n",
      "6 -1.037354  0.280170 -1.075450  ...  0.793764 -0.932416 -0.390509 -0.500414   \n",
      "7  0.424239 -0.059310  0.887116  ... -0.864211  0.854600 -0.156585  1.030620   \n",
      "8 -1.215028  1.179174 -0.749001  ...  0.488239 -1.324736 -0.735354 -0.789782   \n",
      "9  0.100307 -0.851280  0.655486  ... -0.214456  0.560008 -0.233976  0.074082   \n",
      "\n",
      "        195       196       197       198       199  emotion  \n",
      "0  0.631337  0.679939 -0.414877  0.569147  0.707691        0  \n",
      "1  0.038012  0.315784 -0.787119 -0.125377  0.212874        0  \n",
      "2  1.226690  1.404356 -0.762457  0.924836  1.438475        0  \n",
      "3  0.953759  0.837308 -0.558447  0.982884  1.116580        0  \n",
      "4  0.520103  0.725771 -0.491659  0.357640  0.513197        0  \n",
      "5  1.622827  1.027952 -2.113594  1.283680  1.553283        0  \n",
      "6 -0.685206 -1.187543  0.253944 -0.588377 -0.790412        0  \n",
      "7  0.972846  0.559018 -1.178368  0.231847  0.832320        0  \n",
      "8 -1.258860 -1.095358  0.898297 -2.025157 -1.443034        0  \n",
      "9  0.635099  0.937214 -0.385064  1.191920  0.789250        0  \n",
      "\n",
      "[10 rows x 201 columns]\n",
      "(2394, 201)\n"
     ]
    }
   ],
   "source": [
    "import gensim\n",
    "from tqdm import tqdm\n",
    "from sklearn.preprocessing import StandardScaler\n",
    "\n",
    "#Train on text data\n",
    "list_of_sent = data_train[\"text\"]\n",
    "w2v_model=gensim.models.Word2Vec(list_of_sent,min_count=4,size=200, workers=4)\n",
    "w2v_words=list(w2v_model.wv.vocab)\n",
    "\n",
    "#Vectorize text data\n",
    "listof_sent_vec=[]\n",
    "#tqdm is for improving speed and making progressbar\n",
    "for sent in tqdm(list_of_sent): \n",
    "    sent_vec = np.zeros(200) \n",
    "    cnt_words =0; \n",
    "    for word in sent: \n",
    "        if word in w2v_words:\n",
    "            vec = w2v_model.wv[word]\n",
    "            sent_vec += vec\n",
    "            cnt_words += 1\n",
    "    if cnt_words != 0:\n",
    "        sent_vec /= cnt_words\n",
    "    listof_sent_vec.append(sent_vec)\n",
    "    \n",
    "Label = data_train[\"emotion\"]\n",
    "list_col=tuple(range(200))\n",
    "Scaler = StandardScaler()\n",
    "train_vec = Scaler.fit_transform(listof_sent_vec)\n",
    "W2v_data_train=pd.DataFrame(data=train_vec, columns=list_col)\n",
    "W2v_data_train[\"emotion\"] = Label\n",
    "print(W2v_data_train.head(10))\n",
    "print(W2v_data_train.shape)"
   ]
  },
  {
   "cell_type": "code",
   "execution_count": 259,
   "metadata": {},
   "outputs": [
    {
     "name": "stderr",
     "output_type": "stream",
     "text": [
      "100%|██████████████████████████████████████████████████████████████████████████████| 228/228 [00:00<00:00, 3561.82it/s]\n"
     ]
    },
    {
     "name": "stdout",
     "output_type": "stream",
     "text": [
      "          0         1         2         3         4         5         6  \\\n",
      "0 -1.495868  2.373710  0.914508  1.119369 -1.569029  1.246709  1.119460   \n",
      "1 -0.514527  0.968026  0.238475  0.854125 -0.977299  0.518294  0.693483   \n",
      "2  0.142751  0.565480  0.157914 -0.226641 -0.360558  0.174760  0.155049   \n",
      "3  1.180841 -0.495959 -1.370375 -0.741662  0.081975 -1.045571 -0.820176   \n",
      "4  1.548331 -1.477879 -1.537148 -1.416540  0.962795 -1.226080 -1.431211   \n",
      "5  1.541914 -1.373024 -1.507467 -1.375816  0.853228 -1.260870 -1.448496   \n",
      "6  0.325235 -0.274467 -0.359792 -0.154228 -0.573535 -0.294869 -0.131332   \n",
      "7  0.204477  0.353435  0.515064 -0.052009 -0.225406 -0.269189 -0.149682   \n",
      "8  0.358903  0.065423  0.418901 -0.032217 -0.178957 -0.444066 -0.320156   \n",
      "9 -0.144141  0.359117  1.053859  0.551840 -0.882383 -0.114464  0.023992   \n",
      "\n",
      "          7         8         9  ...       191       192       193       194  \\\n",
      "0 -0.171820 -1.152768  1.012821  ... -1.025477  1.338426  1.630453  0.957684   \n",
      "1  0.749866 -0.160385  0.789172  ... -1.068751  0.862758  0.590034 -0.002254   \n",
      "2  0.255600 -0.052901  0.096962  ...  0.453700  0.038833 -1.994642 -0.314598   \n",
      "3 -0.092131  1.133502 -0.767157  ...  0.232602 -0.857313 -1.406677 -1.100872   \n",
      "4 -1.345185  1.201497 -1.778764  ...  0.969318 -1.555189 -1.148785 -0.798615   \n",
      "5 -1.470818  1.082426 -1.724394  ...  1.000096 -1.509735 -0.924394 -0.629536   \n",
      "6 -0.200505  0.244301 -0.358888  ...  0.015979 -0.291062  0.297028 -1.369661   \n",
      "7  0.348321  0.199767 -0.354191  ...  0.016751 -0.102298  0.203053  0.741287   \n",
      "8  0.193006  0.087972 -0.602437  ... -0.114469 -0.150432  0.551412  0.508673   \n",
      "9 -0.278151 -0.785311 -0.172580  ...  0.341404  0.291239  0.318017  0.481665   \n",
      "\n",
      "        195       196       197       198       199  emotion  \n",
      "0  1.239210  1.037794 -0.919205  1.388547  1.406250        0  \n",
      "1  0.993814  0.803390 -1.036338  0.995207  0.917007        0  \n",
      "2 -0.023825 -0.110862  0.267816 -0.273820  0.174067        0  \n",
      "3 -1.177490 -1.033140  1.480296 -0.673439 -0.830883        0  \n",
      "4 -1.611775 -1.033261  1.180583 -1.352283 -1.382838        0  \n",
      "5 -1.577819 -1.012194  1.249582 -1.384763 -1.374799        0  \n",
      "6  0.030492 -0.312399  0.091864  0.037511 -0.208276        0  \n",
      "7 -0.216554 -0.147705  0.712170 -0.252294 -0.208296        0  \n",
      "8 -0.314849 -0.239678  0.721747 -0.292792 -0.296609        0  \n",
      "9  0.554091 -0.041338 -0.110272  0.398480  0.383199        0  \n",
      "\n",
      "[10 rows x 201 columns]\n",
      "(228, 201)\n"
     ]
    },
    {
     "name": "stderr",
     "output_type": "stream",
     "text": [
      "100%|██████████████████████████████████████████████████████████████████████████████| 995/995 [00:00<00:00, 5770.11it/s]\n"
     ]
    },
    {
     "name": "stdout",
     "output_type": "stream",
     "text": [
      "          0         1         2         3         4         5         6  \\\n",
      "0  0.276739  0.154350 -0.079786 -0.204219 -0.289935 -0.238848 -0.100101   \n",
      "1 -1.014901  1.417274  1.654349  0.984491 -0.025921  0.967634  0.964634   \n",
      "2 -0.971829  1.497481  1.263710  0.850793  0.141260  0.931376  0.750419   \n",
      "3 -1.092697  1.271447  1.594616  1.081191 -1.634651  1.181115  0.996665   \n",
      "4  0.423149 -0.136933 -1.315440 -0.356448 -0.021652 -0.094161 -0.525270   \n",
      "5 -1.782803  0.202889  2.585962  1.304916 -0.788348  0.921293  1.421046   \n",
      "6  0.065137 -0.150789 -0.206787 -0.267420  0.853750  0.297041 -0.451089   \n",
      "7 -0.343267  0.238983 -0.203288 -0.110031  0.709502  0.489789 -0.168996   \n",
      "8 -0.564318  0.911017  0.465125  0.389344 -0.380830  0.953514  0.803943   \n",
      "9  0.058969  0.118051  0.053710 -0.427453  0.441770 -0.481542 -0.203229   \n",
      "\n",
      "          7         8         9  ...       191       192       193       194  \\\n",
      "0 -0.467603  0.296974 -0.130276  ...  0.322403 -0.156474 -0.201699  1.079754   \n",
      "1  0.058012 -0.740102  0.691183  ... -1.049540  0.919223  2.485745  0.117512   \n",
      "2  0.444930 -0.444391  0.601568  ... -0.670106  0.756643  1.634593 -0.219159   \n",
      "3  1.515968 -1.099068  0.657163  ... -1.345693  1.183088 -0.458037  1.326400   \n",
      "4  0.362382  0.596253 -0.395560  ... -0.094155 -0.264139  0.713337 -1.462001   \n",
      "5  1.923813 -1.318637  2.543729  ... -2.819467  1.613611 -1.249716 -0.589129   \n",
      "6  1.280306 -0.117277  0.243104  ...  0.615828 -0.108026 -1.151208  0.297748   \n",
      "7  1.253502 -0.560520  0.724617  ...  0.254299  0.056792 -0.785134  0.431737   \n",
      "8  0.530000 -0.946774  0.222217  ... -0.664669  0.448944  0.864757 -0.675926   \n",
      "9  0.830619 -0.754470 -0.132803  ...  0.572580 -0.363536 -0.676158  0.437425   \n",
      "\n",
      "        195       196       197       198       199  emotion  \n",
      "0 -0.156169 -0.320556  0.837791 -0.202398  0.060578        0  \n",
      "1  1.068988  0.923213 -0.626219  1.093781  1.043665        0  \n",
      "2  0.777558  0.901965 -0.388563  0.707084  0.809891        0  \n",
      "3  1.435708  1.052028 -1.639811  0.948220  1.060745        0  \n",
      "4 -0.389590 -0.410097  0.543492 -0.280469 -0.257756        0  \n",
      "5  1.634039  1.045674 -1.256653  0.827082  1.286120        0  \n",
      "6  0.021254  0.070244  0.365216  0.089456  0.167704        0  \n",
      "7  0.304496  0.103943 -0.008693  0.321210  0.524898        0  \n",
      "8  0.563910  0.513243 -1.299517  0.354464  0.936686        0  \n",
      "9 -0.530650  0.007168  0.529412 -0.503380 -0.099214        0  \n",
      "\n",
      "[10 rows x 201 columns]\n",
      "(995, 201)\n"
     ]
    }
   ],
   "source": [
    "#Vectorize Cross Validate\n",
    "list_of_sent= data_cv[\"text\"]\n",
    "listof_sent_vec=[]\n",
    "\n",
    "for sent in tqdm(list_of_sent): \n",
    "    sent_vec = np.zeros(200) \n",
    "    cnt_words =0; \n",
    "    for word in sent: \n",
    "        if word in w2v_words:\n",
    "            vec = w2v_model.wv[word]\n",
    "            sent_vec += vec\n",
    "            cnt_words += 1\n",
    "    if cnt_words != 0:\n",
    "        sent_vec /= cnt_words\n",
    "    listof_sent_vec.append(sent_vec)\n",
    "    \n",
    "Label = data_cv[\"emotion\"]\n",
    "list_col=tuple(range(200))\n",
    "cv_vec = Scaler.transform(listof_sent_vec)\n",
    "W2v_data_cv=pd.DataFrame(data=cv_vec, columns=list_col)\n",
    "W2v_data_cv[\"emotion\"] = Label\n",
    "print(W2v_data_cv.head(10))\n",
    "print(W2v_data_cv.shape)\n",
    "\n",
    "\n",
    "#test\n",
    "list_of_sent= data_test[\"text\"]\n",
    "listof_sent_vec=[]\n",
    "\n",
    "for sent in tqdm(list_of_sent): \n",
    "    sent_vec = np.zeros(200) \n",
    "    cnt_words =0; \n",
    "    for word in sent: \n",
    "        if word in w2v_words:\n",
    "            vec = w2v_model.wv[word]\n",
    "            sent_vec += vec\n",
    "            cnt_words += 1\n",
    "    if cnt_words != 0:\n",
    "        sent_vec /= cnt_words\n",
    "    listof_sent_vec.append(sent_vec)\n",
    "    \n",
    "Label = data_test[\"emotion\"]\n",
    "list_col=tuple(range(200))\n",
    "test_vec = Scaler.transform(listof_sent_vec)\n",
    "W2v_data_test=pd.DataFrame(data=test_vec, columns=list_col)\n",
    "W2v_data_test[\"emotion\"] = Label\n",
    "print(W2v_data_test.head(10))\n",
    "print(W2v_data_test.shape)"
   ]
  },
  {
   "cell_type": "code",
   "execution_count": 260,
   "metadata": {},
   "outputs": [
    {
     "name": "stdout",
     "output_type": "stream",
     "text": [
      "Final shape of Train X and y for word2vec: (2394, 200) (2394,)\n",
      "Final shape of CV X and y for word2vec: (228, 200) (228,)\n",
      "Final shape of Test X and y for word2vec: (995, 200) (995,)\n"
     ]
    }
   ],
   "source": [
    "X_train_w2v = W2v_data_train.drop(\"emotion\",axis=1).to_numpy()\n",
    "y_train_w2v = W2v_data_train[\"emotion\"].to_numpy()\n",
    "\n",
    "X_cv_w2v = W2v_data_cv.drop(\"emotion\",axis=1).to_numpy()\n",
    "y_cv_w2v = W2v_data_cv[\"emotion\"].to_numpy()\n",
    "\n",
    "X_test_w2v = W2v_data_test.drop(\"emotion\",axis=1).to_numpy()\n",
    "y_test_w2v = W2v_data_test[\"emotion\"].to_numpy()\n",
    "\n",
    "print(\"Final shape of Train X and y for word2vec:\",X_train_w2v.shape,y_train_w2v.shape)\n",
    "print(\"Final shape of CV X and y for word2vec:\",X_cv_w2v.shape,y_cv_w2v.shape)\n",
    "print(\"Final shape of Test X and y for word2vec:\",X_test_w2v.shape,y_test_w2v.shape)"
   ]
  },
  {
   "cell_type": "markdown",
   "metadata": {},
   "source": [
    "## Text Vectorization(bag of words)"
   ]
  },
  {
   "cell_type": "code",
   "execution_count": 261,
   "metadata": {},
   "outputs": [
    {
     "name": "stdout",
     "output_type": "stream",
     "text": [
      "Final shape of Train X and y for bag of words: (2394, 20970) (2394,)\n",
      "Final shape of CV X and y for bag of words: (228, 20970) (228,)\n",
      "Final shape of Test X and y for bag of words: (995, 20970) (995,)\n"
     ]
    }
   ],
   "source": [
    "from sklearn.feature_extraction.text import CountVectorizer\n",
    "from sklearn.preprocessing import normalize\n",
    "\n",
    "#Train bag of words\n",
    "bow_model = CountVectorizer(ngram_range=(1,2))\n",
    "bow_model.fit(data_train_bow[\"text\"])\n",
    "\n",
    "X_train_bow = normalize(bow_model.transform(data_train_bow[\"text\"])).tocsr()\n",
    "y_train_bow = data_train_bow[\"emotion\"].to_numpy()\n",
    "\n",
    "X_cv_bow = normalize(bow_model.transform(data_cv_bow[\"text\"])).tocsr()\n",
    "y_cv_bow = data_cv_bow[\"emotion\"].to_numpy()\n",
    "\n",
    "X_test_bow = normalize(bow_model.transform(data_test_bow[\"text\"])).tocsr()\n",
    "y_test_bow = data_test_bow[\"emotion\"].to_numpy()\n",
    "\n",
    "print(\"Final shape of Train X and y for bag of words:\",X_train_bow.shape,y_train_bow.shape)\n",
    "print(\"Final shape of CV X and y for bag of words:\",X_cv_bow.shape,y_cv_bow.shape)\n",
    "print(\"Final shape of Test X and y for bag of words:\",X_test_bow.shape,y_test_bow.shape)"
   ]
  },
  {
   "cell_type": "markdown",
   "metadata": {},
   "source": [
    "## Modelling"
   ]
  },
  {
   "cell_type": "markdown",
   "metadata": {},
   "source": [
    "###  Preparation"
   ]
  },
  {
   "cell_type": "code",
   "execution_count": 262,
   "metadata": {},
   "outputs": [],
   "source": [
    "from sklearn.metrics import accuracy_score\n",
    "from sklearn.metrics import confusion_matrix\n",
    "from sklearn.metrics import f1_score\n",
    "\n",
    "def showCnfMat(y_true,y_pred):\n",
    "    mat = confusion_matrix(y_true,y_pred)\n",
    "    for arr in mat:\n",
    "        print(\" \".join(list(map(str, arr))))\n",
    "        \n",
    "def plotHyperparameterScores(values,scores,scoring=\"accuracy\",parameter=\"Lamda\"):\n",
    "    if(scoring==\"f1\"):\n",
    "        bestScore = min(scores)\n",
    "    elif(scoring==\"accuracy\"):\n",
    "        bestScore = max(scores)\n",
    "    index = scores.index(bestScore)\n",
    "    val = values[index]\n",
    "    plt.plot(values,scores)\n",
    "    plt.show()\n",
    "    print(f\"Best Score at {parameter}: {val}\")\n",
    "    return val"
   ]
  },
  {
   "cell_type": "markdown",
   "metadata": {},
   "source": [
    "### KNN"
   ]
  },
  {
   "cell_type": "code",
   "execution_count": 263,
   "metadata": {},
   "outputs": [
    {
     "data": {
      "image/png": "[encoded data removed]",
      "text/plain": [
       "<Figure size 432x288 with 1 Axes>"
      ]
     },
     "metadata": {
      "needs_background": "light"
     },
     "output_type": "display_data"
    },
    {
     "name": "stdout",
     "output_type": "stream",
     "text": [
      "Best Score at K: 5\n",
      "Final accuracy on train data: 0.6687552213868003\n",
      "Final accuracy on CV data: 0.42105263157894735\n",
      "Final accuracy on test data: 0.37185929648241206\n",
      "\n",
      "Confusion Matrix on Test Data:\n",
      "102 83 34 27\n",
      "84 106 26 21\n",
      "47 69 99 24\n",
      "83 94 33 63\n"
     ]
    }
   ],
   "source": [
    "from sklearn.neighbors import KNeighborsClassifier\n",
    "\n",
    "k_values = range(1,100,2)\n",
    "cv_scores= []\n",
    "\n",
    "for k in k_values:\n",
    "    knn = KNeighborsClassifier(n_neighbors=k, weights=\"uniform\", p=2)\n",
    "    knn.fit(X_train_w2v,y_train_w2v)\n",
    "    y_pred = knn.predict(X_cv_w2v)\n",
    "    cv_scores.append(accuracy_score(y_cv_w2v,y_pred))\n",
    "    \n",
    "optimal_k = plotHyperparameterScores(k_values,cv_scores,\"accuracy\",\"K\")\n",
    "knn_model = KNeighborsClassifier(n_neighbors=optimal_k, weights=\"uniform\", p=2)\n",
    "knn_model.fit(X_train_w2v, y_train_w2v)\n",
    "\n",
    "y_predTrain= knn_model.predict(X_train_w2v)\n",
    "y_predCV = knn_model.predict(X_cv_w2v)\n",
    "y_predTest = knn_model.predict(X_test_w2v)\n",
    "accTrain = accuracy_score(y_train_w2v, y_predTrain)\n",
    "accCV = accuracy_score(y_cv_w2v, y_predCV)\n",
    "accTest = accuracy_score(y_test_w2v, y_predTest)\n",
    "print(\"Final accuracy on train data:\",accTrain)\n",
    "print(\"Final accuracy on CV data:\",accCV)\n",
    "print(\"Final accuracy on test data:\",accTest)\n",
    "\n",
    "print(\"\\nConfusion Matrix on Test Data:\")\n",
    "showCnfMat(y_test_w2v,y_predTest)"
   ]
  },
  {
   "cell_type": "markdown",
   "metadata": {},
   "source": [
    "### Logistic Regression"
   ]
  },
  {
   "cell_type": "code",
   "execution_count": 264,
   "metadata": {},
   "outputs": [
    {
     "data": {
      "image/png": "[encoded data removed]",
      "text/plain": [
       "<Figure size 432x288 with 1 Axes>"
      ]
     },
     "metadata": {
      "needs_background": "light"
     },
     "output_type": "display_data"
    },
    {
     "name": "stdout",
     "output_type": "stream",
     "text": [
      "Best Score at C: 100000\n",
      "Final accuracy on train data: 0.9899749373433584\n",
      "Final accuracy on CV data: 0.9035087719298246\n",
      "Final accuracy on test data: 0.821105527638191\n",
      "\n",
      "Confusion Matrix on Test Data:\n",
      "195 22 11 18\n",
      "14 193 10 20\n",
      "6 15 214 4\n",
      "19 31 8 215\n"
     ]
    }
   ],
   "source": [
    "from sklearn.linear_model import LogisticRegression\n",
    "\n",
    "C_values=[10**-1,10**0,10**1,10**2,10**4,10**5,10**6]\n",
    "cv_scores = []\n",
    "\n",
    "for C in C_values:\n",
    "    LR = LogisticRegression(C=C, solver=\"liblinear\",multi_class=\"auto\")\n",
    "    LR.fit(X_train_bow,y_train_bow)\n",
    "    y_pred = LR.predict(X_cv_bow)\n",
    "    cv_scores.append(accuracy_score(y_cv_bow,y_pred))\n",
    "    \n",
    "optimal_C = plotHyperparameterScores(C_values,cv_scores,\"accuracy\",\"C\")\n",
    "LR_model = LogisticRegression(C=optimal_C, solver=\"liblinear\",multi_class=\"auto\")\n",
    "LR_model.fit(X_train_bow, y_train_bow)\n",
    "\n",
    "y_predTrain= LR_model.predict(X_train_bow)\n",
    "y_predCV = LR_model.predict(X_cv_bow)\n",
    "y_predTest = LR_model.predict(X_test_bow)\n",
    "accTrain = accuracy_score(y_train_bow, y_predTrain)\n",
    "accCV = accuracy_score(y_cv_bow, y_predCV)\n",
    "accTest = accuracy_score(y_test_bow, y_predTest)\n",
    "print(\"Final accuracy on train data:\",accTrain)\n",
    "print(\"Final accuracy on CV data:\",accCV)\n",
    "print(\"Final accuracy on test data:\",accTest)\n",
    "\n",
    "print(\"\\nConfusion Matrix on Test Data:\")\n",
    "showCnfMat(y_test_bow,y_predTest)"
   ]
  },
  {
   "cell_type": "markdown",
   "metadata": {},
   "source": [
    "### Multinomial Naive Bayes"
   ]
  },
  {
   "cell_type": "code",
   "execution_count": 265,
   "metadata": {},
   "outputs": [
    {
     "data": {
      "image/png": "[encoded data removed]",
      "text/plain": [
       "<Figure size 432x288 with 1 Axes>"
      ]
     },
     "metadata": {
      "needs_background": "light"
     },
     "output_type": "display_data"
    },
    {
     "name": "stdout",
     "output_type": "stream",
     "text": [
      "Best Score at alpha: 0.1\n",
      "Final accuracy on train data: 0.9899749373433584\n",
      "Final accuracy on CV data: 0.7763157894736842\n",
      "Final accuracy on test data: 0.735678391959799\n",
      "\n",
      "Confusion Matrix on Test Data:\n",
      "191 35 7 13\n",
      "22 193 8 14\n",
      "11 31 186 11\n",
      "27 70 14 162\n"
     ]
    }
   ],
   "source": [
    "from sklearn.naive_bayes import MultinomialNB\n",
    "\n",
    "alpha_values=[10**-3,10**-2,10**-1,10**0,10**1,10**2,10**3]\n",
    "cv_scores = []\n",
    "\n",
    "for alpha in alpha_values:\n",
    "    NB = MultinomialNB(alpha=alpha)\n",
    "    NB.fit(X_train_bow,y_train_bow)\n",
    "    y_pred = NB.predict(X_cv_bow)\n",
    "    cv_scores.append(accuracy_score(y_cv_bow,y_pred))\n",
    "    \n",
    "optimal_alpha = plotHyperparameterScores(alpha_values,cv_scores,\"accuracy\",\"alpha\")\n",
    "NB_model = MultinomialNB(alpha=optimal_alpha)\n",
    "NB_model.fit(X_train_bow, y_train_bow)\n",
    "\n",
    "y_predTrain= NB_model.predict(X_train_bow)\n",
    "y_predCV = NB_model.predict(X_cv_bow)\n",
    "y_predTest = NB_model.predict(X_test_bow)\n",
    "accTrain = accuracy_score(y_train_bow, y_predTrain)\n",
    "accCV = accuracy_score(y_cv_bow, y_predCV)\n",
    "accTest = accuracy_score(y_test_bow, y_predTest)\n",
    "print(\"Final accuracy on train data:\",accTrain)\n",
    "print(\"Final accuracy on CV data:\",accCV)\n",
    "print(\"Final accuracy on test data:\",accTest)\n",
    "\n",
    "print(\"\\nConfusion Matrix on Test Data:\")\n",
    "showCnfMat(y_test_bow,y_predTest)"
   ]
  },
  {
   "cell_type": "markdown",
   "metadata": {},
   "source": [
    "### Random Forest"
   ]
  },
  {
   "cell_type": "code",
   "execution_count": 266,
   "metadata": {},
   "outputs": [
    {
     "name": "stdout",
     "output_type": "stream",
     "text": [
      "Final accuracy on train data: 0.9883040935672515\n",
      "Final accuracy on CV data: 0.4473684210526316\n",
      "Final accuracy on test data: 0.40703517587939697\n",
      "\n",
      "Confusion Matrix on Test Data:\n",
      "89 133 11 13\n",
      "42 173 7 15\n",
      "54 96 81 8\n",
      "48 147 16 62\n"
     ]
    }
   ],
   "source": [
    "from sklearn.ensemble import RandomForestClassifier\n",
    "   \n",
    "RF_model = RandomForestClassifier(n_estimators=1000,max_depth=None)\n",
    "RF_model.fit(X_train_w2v,y_train_w2v)\n",
    "\n",
    "y_predTrain= RF_model.predict(X_train_w2v)\n",
    "y_predCV = RF_model.predict(X_cv_w2v)\n",
    "y_predTest = RF_model.predict(X_test_w2v)\n",
    "accTrain = accuracy_score(y_train_w2v, y_predTrain)\n",
    "accCV = accuracy_score(y_cv_w2v, y_predCV)\n",
    "accTest = accuracy_score(y_test_w2v, y_predTest)\n",
    "print(\"Final accuracy on train data:\",accTrain)\n",
    "print(\"Final accuracy on CV data:\",accCV)\n",
    "print(\"Final accuracy on test data:\",accTest)\n",
    "\n",
    "print(\"\\nConfusion Matrix on Test Data:\")\n",
    "showCnfMat(y_test_w2v,y_predTest)"
   ]
  },
  {
   "cell_type": "markdown",
   "metadata": {},
   "source": [
    "### SVM(bow)"
   ]
  },
  {
   "cell_type": "code",
   "execution_count": 271,
   "metadata": {},
   "outputs": [
    {
     "data": {
      "image/png": "[encoded data removed]",
      "text/plain": [
       "<Figure size 432x288 with 1 Axes>"
      ]
     },
     "metadata": {
      "needs_background": "light"
     },
     "output_type": "display_data"
    },
    {
     "name": "stdout",
     "output_type": "stream",
     "text": [
      "Best Score at C: 10\n",
      "Final accuracy on train data: 0.9899749373433584\n",
      "Final accuracy on CV data: 0.9078947368421053\n",
      "Final accuracy on test data: 0.8251256281407036\n",
      "\n",
      "Confusion Matrix on Test Data:\n",
      "196 22 10 18\n",
      "14 192 11 20\n",
      "5 14 217 3\n",
      "17 30 10 216\n"
     ]
    }
   ],
   "source": [
    "from sklearn.svm import LinearSVC\n",
    "\n",
    "C_values=[10**0,10,20,50,80,10**2,120,200,500]\n",
    "cv_scores = []\n",
    "\n",
    "for C in C_values:\n",
    "    SVM = LinearSVC(C = C, dual=False)\n",
    "    SVM.fit(X_train_bow,y_train_bow)\n",
    "    y_pred = SVM.predict(X_cv_bow)\n",
    "    cv_scores.append(accuracy_score(y_cv_bow,y_pred))\n",
    "    \n",
    "optimal_C_SVM = plotHyperparameterScores(C_values,cv_scores,\"accuracy\",\"C\")\n",
    "SVM_model = LinearSVC(C = optimal_C_SVM, dual=False)\n",
    "SVM_model.fit(X_train_bow, y_train_bow)\n",
    "\n",
    "y_predTrain= SVM_model.predict(X_train_bow)\n",
    "y_predCV = SVM_model.predict(X_cv_bow)\n",
    "y_predTest = SVM_model.predict(X_test_bow)\n",
    "accTrain = accuracy_score(y_train_bow, y_predTrain)\n",
    "accCV = accuracy_score(y_cv_bow, y_predCV)\n",
    "accTest = accuracy_score(y_test_bow, y_predTest)\n",
    "print(\"Final accuracy on train data:\",accTrain)\n",
    "print(\"Final accuracy on CV data:\",accCV)\n",
    "print(\"Final accuracy on test data:\",accTest)\n",
    "\n",
    "print(\"\\nConfusion Matrix on Test Data:\")\n",
    "showCnfMat(y_test_bow,y_predTest)"
   ]
  },
  {
   "cell_type": "markdown",
   "metadata": {},
   "source": [
    "## SVM(w2v)"
   ]
  },
  {
   "cell_type": "code",
   "execution_count": 272,
   "metadata": {},
   "outputs": [
    {
     "data": {
      "image/png": "[encoded data removed]",
      "text/plain": [
       "<Figure size 432x288 with 1 Axes>"
      ]
     },
     "metadata": {
      "needs_background": "light"
     },
     "output_type": "display_data"
    },
    {
     "name": "stdout",
     "output_type": "stream",
     "text": [
      "Best Score at C: 10\n",
      "Final accuracy on train data: 0.7301587301587301\n",
      "Final accuracy on CV data: 0.6271929824561403\n",
      "Final accuracy on test data: 0.6321608040201006\n",
      "\n",
      "Confusion Matrix on Test Data:\n",
      "158 36 23 29\n",
      "44 146 22 25\n",
      "28 27 168 16\n",
      "32 52 32 157\n"
     ]
    }
   ],
   "source": [
    "C_values=[1,10,40,60,100]\n",
    "cv_scores = []\n",
    "\n",
    "for C in C_values:\n",
    "    SVM = LinearSVC(C = C, dual=False)\n",
    "    SVM.fit(X_train_w2v,y_train_w2v)\n",
    "    y_pred = SVM.predict(X_cv_w2v)\n",
    "    cv_scores.append(accuracy_score(y_cv_w2v,y_pred))\n",
    "    \n",
    "optimal_C_SVM = plotHyperparameterScores(C_values,cv_scores,\"accuracy\",\"C\")\n",
    "SVM_modelW2v = LinearSVC(C = optimal_C_SVM, dual=False)\n",
    "SVM_modelW2v.fit(X_train_w2v, y_train_w2v)\n",
    "\n",
    "y_predTrain= SVM_modelW2v.predict(X_train_w2v)\n",
    "y_predCV = SVM_modelW2v.predict(X_cv_w2v)\n",
    "y_predTest = SVM_modelW2v.predict(X_test_w2v)\n",
    "accTrain = accuracy_score(y_train_w2v, y_predTrain)\n",
    "accCV = accuracy_score(y_cv_w2v, y_predCV)\n",
    "accTest = accuracy_score(y_test_w2v, y_predTest)\n",
    "print(\"Final accuracy on train data:\",accTrain)\n",
    "print(\"Final accuracy on CV data:\",accCV)\n",
    "print(\"Final accuracy on test data:\",accTest)\n",
    "\n",
    "print(\"\\nConfusion Matrix on Test Data:\")\n",
    "showCnfMat(y_test_bow,y_predTest)"
   ]
  },
  {
   "cell_type": "code",
   "execution_count": 340,
   "metadata": {},
   "outputs": [
    {
     "name": "stdout",
     "output_type": "stream",
     "text": [
      "hey\n",
      "Anger\n"
     ]
    }
   ],
   "source": [
    "#Initial Check\n",
    "\n",
    "user_text = input()\n",
    "\n",
    "tags = re.compile(\"^@[a-zA-Z_]*\")\n",
    "user_text = re.sub(tags,\" \",user_text)\n",
    "hashtags = re.compile(\"#|\\*\")\n",
    "user_text = re.sub(hashtags,\"\",user_text)\n",
    "extraCharacters = re.compile(\"[^a-zA-Z]\")\n",
    "user_text = re.sub(extraCharacters,\" \",user_text)\n",
    "    \n",
    "filtered_text=\"\"\n",
    "for word in user_text.split():\n",
    "    word=word.lower()\n",
    "    if(word not in stop_bow):\n",
    "        word = sno.stem(word)\n",
    "        filtered_text=\" \"+word\n",
    "\n",
    "X = normalize(bow_model.transform([filtered_text])).tocsr()\n",
    "Y = SVM_model.predict(X)\n",
    "Y = Y[0]\n",
    "if(Y==0):\n",
    "    print(\"Anger\")\n",
    "elif(Y==1):\n",
    "    print(\"Fear\")\n",
    "elif(Y==2):\n",
    "    print(\"Joy\")\n",
    "else:\n",
    "    print(\"Sadness\")"
   ]
  },
  {
   "cell_type": "code",
   "execution_count": null,
   "metadata": {},
   "outputs": [],
   "source": []
  }
 ],
 "metadata": {
  "kernelspec": {
   "display_name": "Python 3",
   "language": "python",
   "name": "python3"
  },
  "language_info": {
   "codemirror_mode": {
    "name": "ipython",
    "version": 3
   },
   "file_extension": ".py",
   "mimetype": "text/x-python",
   "name": "python",
   "nbconvert_exporter": "python",
   "pygments_lexer": "ipython3",
   "version": "3.7.3"
  }
 },
 "nbformat": 4,
 "nbformat_minor": 2
}
