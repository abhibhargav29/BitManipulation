{
 "cells": [
  {
   "cell_type": "markdown",
   "metadata": {},
   "source": [
    "# Sentiment Analysis Tweets"
   ]
  },
  {
   "cell_type": "markdown",
   "metadata": {},
   "source": [
    "## Extract Data"
   ]
  },
  {
   "cell_type": "code",
   "execution_count": 11,
   "metadata": {},
   "outputs": [
    {
     "name": "stdout",
     "output_type": "stream",
     "text": [
      "Initial Shape of train data: (3317, 3)\n",
      "Final shape of train dataset: (2394, 3)\n",
      "                                                text  intensity  emotion\n",
      "0  How the fu*k! Who the heck! moved my fridge!.....      0.938        0\n",
      "1  So my Indian Uber driver just called someone t...      0.896        0\n",
      "2  @DPD_UK I asked for my parcel to be delivered ...      0.896        0\n",
      "3  so ef whichever butt wipe pulled the fire alar...      0.896        0\n",
      "4  Don't join @BTCare they put the phone down on ...      0.896        0\n",
      "5                                My blood is boiling      0.875        0\n",
      "6  When you've still got a whole season of Wentwo...      0.875        0\n",
      "7  @bt_uk why does tracking show my equipment del...      0.875        0\n",
      "8  @TeamShanny legit why i am so furious with him...      0.875        0\n",
      "9  How is it suppose to work if you do that? Wtf ...      0.875        0\n",
      "\n",
      "Initial Shape of CV data: (347, 3)\n",
      "Final shape of CV data: (228, 3)\n",
      "                                                text  intensity  emotion\n",
      "0  @ZubairSabirPTI  pls dont insult the word 'Molna'      0.479        0\n",
      "1  @ArcticFantasy I would have almost took offens...      0.458        0\n",
      "2  @IllinoisLoyalty that Rutgers game was an abom...      0.562        0\n",
      "3  @CozanGaming that's what lisa asked before she...      0.500        0\n",
      "4  Sometimes I get mad over something so minuscul...      0.708        0\n",
      "5  Sometimes I get mad over something so minuscul...      0.646        0\n",
      "6  My eyes have been dilated. I hate the world ri...      0.812        0\n",
      "7  @huwellwell One chosen by the CLP members! MP ...      0.682        0\n",
      "8  @huwellwell One chosen by the CLP members! MP ...      0.438        0\n",
      "9  @Yoshi_OnoChin can you please not have Canadia...      0.646        0\n",
      "\n",
      "Initial Shape of Test data: (1454, 3)\n",
      "Final shape of Test data: (995, 3)\n",
      "                                                text  intensity  emotion\n",
      "0  This game has pissed me off more than any othe...      0.898        0\n",
      "1  @moocowward @mrsajhargreaves @Melly77 @GaryBar...      0.646        0\n",
      "2  @moocowward @mrsajhargreaves @Melly77 @GaryBar...      0.583        0\n",
      "3  @virginmedia I've been disconnected whilst on ...      0.625        0\n",
      "4       @shae_caitlin ur road rage gives me anxiety.      0.438        0\n",
      "5  @eMilsOnWheels I'm furious Ã°Å¸ËœÂ©Ã°Å¸ËœÂ©Ã°Å...      0.708        0\n",
      "6  They gonna give this KKk police bitch the mini...      0.877        0\n",
      "7  They gonna give this KKk police bitch the mini...      0.708        0\n",
      "8           I just got murdered in madden. Ã°Å¸Â¤â€¢      0.417        0\n",
      "9  new madden 16 video was gonna be up but xbox i...      0.667        0\n"
     ]
    }
   ],
   "source": [
    "import pandas as pd\n",
    "import numpy as np\n",
    "import matplotlib.pyplot as plt\n",
    "\n",
    "\n",
    "#Train Data\n",
    "trainDf =  pd.read_csv('Train.txt', sep='\t', names=[\"id\",\"text\",\"emotion\",\"intensity\"], engine='python')\n",
    "trainDf=trainDf.drop(\"id\",axis=1)\n",
    "print(\"Initial Shape of train data:\",trainDf.shape)\n",
    "\n",
    "AngerDf = trainDf[trainDf[\"emotion\"]==\"anger\"].drop(\"emotion\",axis=1)\n",
    "AngerDf = AngerDf[AngerDf[\"intensity\"]>=0.4]\n",
    "AngerDf[\"emotion\"] = 0\n",
    "\n",
    "FearDf = trainDf[trainDf[\"emotion\"]==\"fear\"].drop(\"emotion\",axis=1)\n",
    "FearDf = FearDf[FearDf[\"intensity\"]>=0.4]\n",
    "FearDf[\"emotion\"] = 1\n",
    "\n",
    "JoyDf = trainDf[trainDf[\"emotion\"]==\"joy\"].drop(\"emotion\",axis=1)\n",
    "JoyDf = JoyDf[JoyDf[\"intensity\"]>=0.4]\n",
    "JoyDf[\"emotion\"] = 2\n",
    "\n",
    "SadDf = trainDf[trainDf[\"emotion\"]==\"sadness\"].drop(\"emotion\",axis=1)\n",
    "SadDf = SadDf[SadDf[\"intensity\"]>=0.4]\n",
    "SadDf[\"emotion\"] = 3\n",
    "\n",
    "trainDf = pd.concat([AngerDf,FearDf,JoyDf,SadDf],ignore_index=True)\n",
    "print(\"Final shape of train dataset:\",trainDf.shape)\n",
    "print(trainDf.head(10))\n",
    "print()\n",
    "\n",
    "\n",
    "#Cross Validation Data\n",
    "crossValDf =  pd.read_csv('CrossValidate.txt', sep='\t', names=[\"id\",\"text\",\"emotion\",\"intensity\"], engine='python')\n",
    "crossValDf=crossValDf.drop(\"id\",axis=1)\n",
    "print(\"Initial Shape of CV data:\",crossValDf.shape)\n",
    "\n",
    "\n",
    "AngerDf = crossValDf[crossValDf[\"emotion\"]==\"anger\"].drop(\"emotion\",axis=1)\n",
    "AngerDf = AngerDf[AngerDf[\"intensity\"]>0.4]\n",
    "AngerDf[\"emotion\"] = 0\n",
    "\n",
    "FearDf = crossValDf[crossValDf[\"emotion\"]==\"fear\"].drop(\"emotion\",axis=1)\n",
    "FearDf = FearDf[FearDf[\"intensity\"]>=0.4]\n",
    "FearDf[\"emotion\"] = 1\n",
    "\n",
    "JoyDf = crossValDf[crossValDf[\"emotion\"]==\"joy\"].drop(\"emotion\",axis=1)\n",
    "JoyDf = JoyDf[JoyDf[\"intensity\"]>=0.4]\n",
    "JoyDf[\"emotion\"] = 2\n",
    "\n",
    "SadDf = crossValDf[crossValDf[\"emotion\"]==\"sadness\"].drop(\"emotion\",axis=1)\n",
    "SadDf = SadDf[SadDf[\"intensity\"]>=0.4]\n",
    "SadDf[\"emotion\"] = 3\n",
    "\n",
    "crossValDf = pd.concat([AngerDf,FearDf,JoyDf,SadDf],ignore_index=True)\n",
    "print(\"Final shape of CV data:\",crossValDf.shape)\n",
    "print(crossValDf.head(10))\n",
    "print()\n",
    "\n",
    "\n",
    "#Test Data\n",
    "testDf =  pd.read_csv('Test.txt', sep='\t', names=[\"id\",\"text\",\"emotion\",\"intensity\"], engine='python')\n",
    "testDf=testDf.drop(\"id\",axis=1)\n",
    "print(\"Initial Shape of Test data:\",testDf.shape)\n",
    "\n",
    "\n",
    "AngerDf = testDf[testDf[\"emotion\"]==\"anger\"].drop(\"emotion\",axis=1)\n",
    "AngerDf = AngerDf[AngerDf[\"intensity\"]>=0.4]\n",
    "AngerDf[\"emotion\"] = 0\n",
    "\n",
    "FearDf = testDf[testDf[\"emotion\"]==\"fear\"].drop(\"emotion\",axis=1)\n",
    "FearDf = FearDf[FearDf[\"intensity\"]>=0.4]\n",
    "FearDf[\"emotion\"] = 1\n",
    "\n",
    "JoyDf = testDf[testDf[\"emotion\"]==\"joy\"].drop(\"emotion\",axis=1)\n",
    "JoyDf = JoyDf[JoyDf[\"intensity\"]>=0.4]\n",
    "JoyDf[\"emotion\"] = 2\n",
    "\n",
    "SadDf = testDf[testDf[\"emotion\"]==\"sadness\"].drop(\"emotion\",axis=1)\n",
    "SadDf = SadDf[SadDf[\"intensity\"]>=0.4]\n",
    "SadDf[\"emotion\"] = 3\n",
    "\n",
    "testDf = pd.concat([AngerDf,FearDf,JoyDf,SadDf],ignore_index=True)\n",
    "print(\"Final shape of Test data:\",testDf.shape)\n",
    "print(testDf.head(10))"
   ]
  },
  {
   "cell_type": "code",
   "execution_count": 12,
   "metadata": {},
   "outputs": [],
   "source": [
    "data_train= trainDf.drop([\"intensity\"],axis=1)\n",
    "data_cv   = crossValDf.drop([\"intensity\"],axis=1)\n",
    "data_test = testDf.drop([\"intensity\"],axis=1)\n",
    "\n",
    "# emotion=0 means anger\n",
    "# emotion=1 means fear\n",
    "# emotion=2 means joy\n",
    "# emotion=3 means sadness"
   ]
  },
  {
   "cell_type": "markdown",
   "metadata": {},
   "source": [
    "## Text Cleaning"
   ]
  },
  {
   "cell_type": "code",
   "execution_count": 13,
   "metadata": {},
   "outputs": [
    {
     "name": "stderr",
     "output_type": "stream",
     "text": [
      "[nltk_data] Downloading package stopwords to\n",
      "[nltk_data]     C:\\Users\\DELL\\AppData\\Roaming\\nltk_data...\n",
      "[nltk_data]   Package stopwords is already up-to-date!\n"
     ]
    },
    {
     "name": "stdout",
     "output_type": "stream",
     "text": [
      "                                                text  emotion\n",
      "0  [fuk, heck, move, fridg, knock, landlord, door...        0\n",
      "1  [indian, uber, driver, call, someon, n, word, ...        0\n",
      "2  [ask, parcel, deliv, pick, store, address, fum...        0\n",
      "3  [ef, whichev, butt, wipe, pull, fire, alarm, d...        0\n",
      "4  [join, btcare, put, phone, talk, rude, take, m...        0\n",
      "5                                      [blood, boil]        0\n",
      "6  [still, got, whole, season, wentworth, watch, ...        0\n",
      "7  [track, show, equip, deliv, servic, sudden, de...        0\n",
      "8               [legit, furious, peopl, fuck, idiot]        0\n",
      "9             [suppos, work, wtf, dude, thank, piss]        0\n",
      "\n",
      "                                                text  emotion\n",
      "0   fuk heck move fridg knock landlord door angri...        0\n",
      "1   indian uber driver call someon n word move ve...        0\n",
      "2   ask parcel deliv pick store not address fume ...        0\n",
      "3   ef whichev butt wipe pull fire alarm davi bc ...        0\n",
      "4   join btcare put phone talk rude take money ac...        0\n",
      "5                                         blood boil        0\n",
      "6   still got whole season wentworth watch stupid...        0\n",
      "7   track show equip deliv servic sudden delay al...        0\n",
      "8                     legit furious peopl fuck idiot        0\n",
      "9                     suppo work wtf dude thank piss        0\n",
      "\n",
      "                                                text  emotion\n",
      "0                   [pls, dont, insult, word, molna]        0\n",
      "1        [would, almost, took, offens, actual, snap]        0\n",
      "2  [rutger, game, abomin, affront, god, man, must...        0\n",
      "3                [lisa, ask, start, rage, call, heh]        0\n",
      "4  [sometim, get, mad, someth, minuscul, tri, rui...        0\n",
      "5  [sometim, get, mad, someth, minuscul, tri, rui...        0\n",
      "6  [eye, dilat, hate, world, right, rage, thousan...        0\n",
      "7  [one, chosen, clp, member, mp, seat, peopl, do...        0\n",
      "8  [one, chosen, clp, member, mp, seat, peopl, do...        0\n",
      "9  [pleas, canadian, player, play, us, player, la...        0\n",
      "\n",
      "                                                text  emotion\n",
      "0                         pls dont insult word molna        0\n",
      "1               would almost took offens actual snap        0\n",
      "2   rutger game abomin affront god man must never...        0\n",
      "3                       lisa ask start rage call heh        0\n",
      "4   sometim get mad someth minuscul tri ruin some...        0\n",
      "5   sometim get mad someth minuscul tri ruin some...        0\n",
      "6   eye dilat hate world right rage thousand fier...        0\n",
      "7   one chosen clp member mp seat peopl dole mate...        0\n",
      "8   one chosen clp member mp seat peopl dole mate...        0\n",
      "9   pleas canadian player play us player lag atro...        0\n",
      "\n",
      "                                                text  emotion\n",
      "0  [game, piss, game, year, blood, boil, time, tu...        0\n",
      "1  [mrsajhargreav, melli, garybarlow, come, mum, ...        0\n",
      "2  [mrsajhargreav, melli, garybarlow, come, mum, ...        0\n",
      "3  [disconnect, whilst, holiday, move, hous, st, ...        0\n",
      "4                    [ur, road, rage, give, anxieti]        0\n",
      "5                                          [furious]        0\n",
      "6  [gonna, give, kkk, polic, bitch, minimum, sent...        0\n",
      "7  [gonna, give, kkk, polic, bitch, minimum, sent...        0\n",
      "8                              [got, murder, madden]        0\n",
      "9  [new, madden, video, gonna, xbox, ahol, go, st...        0\n",
      "                                                text  emotion\n",
      "0   game piss game year blood boil time turn stlcard        0\n",
      "1   mrsajhargreav melli garybarlow come mum th k ...        0\n",
      "2   mrsajhargreav melli garybarlow come mum th k ...        0\n",
      "3   disconnect whilst holiday move hous st octob ...        0\n",
      "4                          ur road rage give anxieti        0\n",
      "5                                            furious        0\n",
      "6   gonna give kkk polic bitch minimum sentenc wa...        0\n",
      "7   gonna give kkk polic bitch minimum sentenc wa...        0\n",
      "8                                  got murder madden        0\n",
      "9        new madden video gonna xbox ahol go struggl        0\n"
     ]
    }
   ],
   "source": [
    "import re\n",
    "import nltk\n",
    "from nltk.corpus import stopwords\n",
    "nltk.download(\"stopwords\")\n",
    "\n",
    "#Get set of english stop words and prepare stemmer\n",
    "#Stop words for bag of words are different because we will use bigrams\n",
    "stop=set(stopwords.words(\"english\"))\n",
    "stop_bow = set(stopwords.words(\"english\"))\n",
    "stop_bow.discard(\"not\")\n",
    "stop_bow.discard(\"no\")\n",
    "sno = nltk.stem.SnowballStemmer(\"english\")\n",
    "\n",
    "#Train data cleaning\n",
    "train_text=data_train[\"text\"]\n",
    "cleaned_text_bow=[]\n",
    "cleaned_text=[]\n",
    "for line in train_text:\n",
    "    #Removing tags(ex-@abhishek is a name and not needed)\n",
    "    tags = re.compile(\"^@[a-zA-Z_]*\")\n",
    "    line = re.sub(tags,\" \",line)\n",
    "    #Replacing # and * with a \"\"\n",
    "    hashtags = re.compile(\"#|\\*\")\n",
    "    line = re.sub(hashtags,\"\",line)\n",
    "    #Replacing all other characters with a space\n",
    "    extraCharacters = re.compile(\"[^a-zA-Z]\")\n",
    "    line = re.sub(extraCharacters,\" \",line)\n",
    "\n",
    "    #Conversion of line to array of words for word2vec\n",
    "    filtered_words=[]\n",
    "    filtered_words_bow=\"\"\n",
    "    for word in line.split():\n",
    "        word=word.lower()\n",
    "        if(word not in stop):\n",
    "            word = sno.stem(word)\n",
    "            filtered_words.append(word)\n",
    "        if(word not in stop_bow):\n",
    "            word = sno.stem(word)\n",
    "            filtered_words_bow+=\" \"+word\n",
    "    cleaned_text.append(filtered_words)\n",
    "    cleaned_text_bow.append(filtered_words_bow)\n",
    "            \n",
    "data_train_bow = pd.DataFrame(data=cleaned_text_bow,columns=[\"text\"])\n",
    "data_train_bow[\"emotion\"] = data_train[\"emotion\"]\n",
    "data_train[\"text\"]=cleaned_text\n",
    "print(data_train.head(10))\n",
    "print()\n",
    "print(data_train_bow.head(10))\n",
    "print()\n",
    "\n",
    "#Cross Validate data cleaning\n",
    "cv_text=data_cv[\"text\"][0:]\n",
    "cleaned_text=[]\n",
    "cleaned_text_bow=[]\n",
    "for line in cv_text:\n",
    "    #Removing tags(ex-@abhishek is a name and not needed)\n",
    "    tags = re.compile(\"^@[a-zA-Z_]*\")\n",
    "    line = re.sub(tags,\" \",line)\n",
    "    #Replacing # and * with \"\" \n",
    "    hashtags = re.compile(\"#|\\*\")\n",
    "    line = re.sub(hashtags,\"\",line)\n",
    "    #Replacing all other characters with a space\n",
    "    extraCharacters = re.compile(\"[^a-zA-Z]\")\n",
    "    line = re.sub(extraCharacters,\" \",line)\n",
    "    \n",
    "    #Conversion of line to array of words\n",
    "    filtered_words=[]\n",
    "    filtered_words_bow=\"\"\n",
    "    for word in line.split():\n",
    "        word=word.lower()\n",
    "        if(word not in stop):\n",
    "            word = sno.stem(word)\n",
    "            filtered_words.append(word)\n",
    "            filtered_words_bow+=\" \"+word\n",
    "    cleaned_text.append(filtered_words)\n",
    "    cleaned_text_bow.append(filtered_words_bow)\n",
    "            \n",
    "data_cv_bow = pd.DataFrame(data=cleaned_text_bow, columns=[\"text\"])\n",
    "data_cv_bow[\"emotion\"]=data_cv[\"emotion\"]\n",
    "data_cv[\"text\"]=cleaned_text\n",
    "print(data_cv.head(10))\n",
    "print()\n",
    "print(data_cv_bow.head(10))\n",
    "print()\n",
    "\n",
    "#Test data cleaning\n",
    "test_text=data_test[\"text\"][0:]\n",
    "cleaned_text=[]\n",
    "cleaned_text_bow=[]\n",
    "for line in test_text:\n",
    "    #Removing tags(ex-@abhishek is a name and not needed)\n",
    "    tags = re.compile(\"^@[a-zA-Z_]*\")\n",
    "    line = re.sub(tags,\" \",line)\n",
    "    #Replacing hash and * with \"\"\n",
    "    hashtags = re.compile(\"#|\\*\")\n",
    "    line = re.sub(hashtags,\"\",line)\n",
    "    #Replacing all other characters with a space\n",
    "    extraCharacters = re.compile(\"[^a-zA-Z]\")\n",
    "    line = re.sub(extraCharacters,\" \",line)\n",
    "    \n",
    "    #Conversion of line to array of words\n",
    "    filtered_words=[]\n",
    "    filtered_words_bow=\"\"\n",
    "    for word in line.split():\n",
    "        word=word.lower()\n",
    "        if(word not in stop):\n",
    "            word = sno.stem(word)\n",
    "            filtered_words.append(word)\n",
    "            filtered_words_bow+=\" \"+word\n",
    "    cleaned_text.append(filtered_words)\n",
    "    cleaned_text_bow.append(filtered_words_bow)\n",
    "            \n",
    "data_test_bow = pd.DataFrame(data=cleaned_text_bow, columns=[\"text\"])\n",
    "data_test_bow[\"emotion\"]=data_test[\"emotion\"]\n",
    "data_test[\"text\"]=cleaned_text\n",
    "print(data_test.head(10))\n",
    "print(data_test_bow.head(10))"
   ]
  },
  {
   "cell_type": "markdown",
   "metadata": {},
   "source": [
    "## Text Vectorization(Word2Vec)"
   ]
  },
  {
   "cell_type": "code",
   "execution_count": 14,
   "metadata": {},
   "outputs": [
    {
     "name": "stderr",
     "output_type": "stream",
     "text": [
      "100%|████████████████████████████████████████████████████████████████████████████| 2394/2394 [00:00<00:00, 4414.58it/s]\n"
     ]
    },
    {
     "name": "stdout",
     "output_type": "stream",
     "text": [
      "          0         1         2         3         4         5         6  \\\n",
      "0  0.575939  0.971951 -0.273345 -0.133336  0.102279  0.601267 -0.775103   \n",
      "1 -0.100665  0.716661  0.020007  0.224550  0.076700  0.197519 -0.294342   \n",
      "2  1.047776 -0.030045 -0.873597  0.459051  1.310912  1.247732 -1.225079   \n",
      "3 -0.217284  0.942209 -0.315151  1.102597  1.044539  0.955197 -0.904285   \n",
      "4  0.184009  0.819230 -0.145825  0.759878  0.331838  0.552494 -0.491022   \n",
      "5 -0.581405 -0.536395 -0.336011  1.612084  1.683778  1.572260 -1.588972   \n",
      "6 -0.016706 -0.569365  1.133234 -0.411958 -0.769150 -0.806282  0.786515   \n",
      "7 -0.421473 -0.426543 -0.313567  0.218155  1.544612  0.877201 -0.516377   \n",
      "8 -1.877726  0.073620  0.995808 -1.167779  0.136987 -1.469326  1.247177   \n",
      "9  1.377169  0.647830 -0.439166  0.732118  0.601241  0.716103 -1.103776   \n",
      "\n",
      "          7         8         9  ...       191       192       193       194  \\\n",
      "0  0.865129  0.195933 -1.319647  ...  0.573680 -0.914537 -1.980113  0.637015   \n",
      "1  0.151271  0.040111 -0.504183  ...  0.533590 -0.190576 -0.705600  0.252208   \n",
      "2  1.141002  1.572974 -0.752937  ...  1.699819 -0.951497 -1.593190  1.292306   \n",
      "3  1.033089  0.953738 -1.042534  ...  0.942337 -0.899521  0.039110  1.031777   \n",
      "4  0.630936  0.907423 -1.033211  ...  0.390700 -0.281407  0.122670  0.515852   \n",
      "5  0.871332  1.713613 -1.709493  ...  1.893112 -1.890098 -0.204167  1.450683   \n",
      "6 -0.870069 -0.687142  0.538123  ... -1.220303  0.839223 -0.420965 -0.572120   \n",
      "7  0.871971  0.723289 -0.860301  ...  0.952255 -0.630250 -0.268114  0.837462   \n",
      "8 -1.611155 -1.434381  1.797792  ... -0.971551  1.682199  0.799847 -1.452762   \n",
      "9  0.528885  0.730605 -0.251916  ...  1.301454 -0.517770 -0.648951  0.721697   \n",
      "\n",
      "        195       196       197       198       199  emotion  \n",
      "0  0.657398 -1.050505 -0.728404  0.141128  0.757281        0  \n",
      "1  0.444699 -0.094062 -0.118472  0.162686  0.252081        0  \n",
      "2  0.650890 -1.141988 -1.323256 -1.225911  0.996829        0  \n",
      "3  0.578384 -0.971820 -0.856692 -0.149847  0.821228        0  \n",
      "4  0.257771 -0.200948 -0.457325 -0.210980  0.342811        0  \n",
      "5  2.247245 -0.604100 -1.388708 -0.524537  1.841869        0  \n",
      "6 -0.747316  0.638120  0.654697  0.776771 -0.227006        0  \n",
      "7  0.557343 -0.881325 -0.892524 -0.856496  1.152979        0  \n",
      "8 -1.638691  2.096845  1.566327  0.681322 -1.250005        0  \n",
      "9  0.138840 -0.744286 -0.861657  0.023886  0.538611        0  \n",
      "\n",
      "[10 rows x 201 columns]\n",
      "(2394, 201)\n"
     ]
    }
   ],
   "source": [
    "import gensim\n",
    "from tqdm import tqdm\n",
    "from sklearn.preprocessing import StandardScaler\n",
    "\n",
    "#Train on text data\n",
    "list_of_sent = data_train[\"text\"]\n",
    "w2v_model=gensim.models.Word2Vec(list_of_sent,min_count=4,size=200, workers=4)\n",
    "w2v_words=list(w2v_model.wv.vocab)\n",
    "\n",
    "#Vectorize text data\n",
    "listof_sent_vec=[]\n",
    "#tqdm is for improving speed and making progressbar\n",
    "for sent in tqdm(list_of_sent): \n",
    "    sent_vec = np.zeros(200) \n",
    "    cnt_words =0; \n",
    "    for word in sent: \n",
    "        if word in w2v_words:\n",
    "            vec = w2v_model.wv[word]\n",
    "            sent_vec += vec\n",
    "            cnt_words += 1\n",
    "    if cnt_words != 0:\n",
    "        sent_vec /= cnt_words\n",
    "    listof_sent_vec.append(sent_vec)\n",
    "    \n",
    "Label = data_train[\"emotion\"]\n",
    "list_col=tuple(range(200))\n",
    "Scaler = StandardScaler()\n",
    "train_vec = Scaler.fit_transform(listof_sent_vec)\n",
    "W2v_data_train=pd.DataFrame(data=train_vec, columns=list_col)\n",
    "W2v_data_train[\"emotion\"] = Label\n",
    "print(W2v_data_train.head(10))\n",
    "print(W2v_data_train.shape)"
   ]
  },
  {
   "cell_type": "code",
   "execution_count": 15,
   "metadata": {},
   "outputs": [
    {
     "name": "stderr",
     "output_type": "stream",
     "text": [
      "100%|██████████████████████████████████████████████████████████████████████████████| 228/228 [00:00<00:00, 4108.18it/s]\n"
     ]
    },
    {
     "name": "stdout",
     "output_type": "stream",
     "text": [
      "          0         1         2         3         4         5         6  \\\n",
      "0  1.904280  1.513304 -1.121466  2.112142  1.004954  1.256169 -1.000209   \n",
      "1  0.461553  0.789413 -0.652871  0.176453  0.010339  0.775728 -0.589462   \n",
      "2  0.864729  0.435865 -0.240632  0.031442 -0.881051 -0.178874  0.220005   \n",
      "3 -0.090823  0.619064  0.918414 -0.493565 -1.645568 -0.795163  0.635480   \n",
      "4 -1.043218 -0.114206  1.430009 -1.237640 -0.490799 -1.477246  1.451074   \n",
      "5 -1.159737  0.069777  1.510878 -1.288523 -0.342625 -1.479951  1.436473   \n",
      "6  0.005713 -0.016664  0.519446 -0.687937 -0.012395 -0.299349  0.405615   \n",
      "7 -0.083078  0.269881 -0.072457 -0.920452 -0.087893 -0.399103  0.237331   \n",
      "8 -0.243437  0.247575  0.260389 -0.821521 -0.010679 -0.601147  0.294367   \n",
      "9  0.022169 -0.923257 -0.166606 -0.186634 -1.152480  0.167609 -0.029578   \n",
      "\n",
      "          7         8         9  ...       191       192       193       194  \\\n",
      "0  1.436198  1.536495 -1.303721  ...  2.178280 -1.294634 -0.133887  1.600614   \n",
      "1  0.805526  0.385267 -0.563548  ...  0.858190 -0.740300 -0.631823  0.767480   \n",
      "2  0.084728  0.242792  0.258799  ...  0.298331  0.135488  1.070770 -0.000224   \n",
      "3 -0.838844 -0.926106  0.826897  ... -0.505741  0.857307  1.611133 -0.925181   \n",
      "4 -1.472016 -1.272805  1.530246  ... -1.251613  1.446184  0.377697 -1.525480   \n",
      "5 -1.466266 -1.333742  1.540429  ... -1.302669  1.451370  0.377323 -1.452837   \n",
      "6 -0.255914 -0.099750  0.480491  ... -0.206988  0.313320  0.450494 -0.325415   \n",
      "7 -0.338913 -0.076470 -0.400346  ...  0.461098  0.336764  0.087282 -0.330852   \n",
      "8 -0.455513 -0.198926 -0.209256  ...  0.260534  0.398032  0.430709 -0.417877   \n",
      "9  0.149849  0.328859  0.306419  ... -0.325272 -0.139558 -0.469131  0.099966   \n",
      "\n",
      "        195       196       197       198       199  emotion  \n",
      "0  1.730274 -1.430135 -1.315137 -1.049772  1.467371        0  \n",
      "1  0.518907 -0.466735 -0.640650 -0.863741  0.533300        0  \n",
      "2  0.315084 -0.513610 -0.096366 -0.704733  0.169924        0  \n",
      "3 -0.718979  0.459411  0.787213  0.966062 -0.705349        0  \n",
      "4 -1.220441  1.120220  1.249915  1.458001 -1.439070        0  \n",
      "5 -1.176334  1.047798  1.196926  1.447325 -1.357725        0  \n",
      "6  0.279245  0.216134  0.535602 -0.169069 -0.141057        0  \n",
      "7 -0.739164  0.631286  0.132286 -0.037160 -0.648776        0  \n",
      "8 -0.638022  0.736326  0.285063  0.214432 -0.717008        0  \n",
      "9  0.732545 -0.439760  0.000999 -0.563403  0.027620        0  \n",
      "\n",
      "[10 rows x 201 columns]\n",
      "(228, 201)\n"
     ]
    },
    {
     "name": "stderr",
     "output_type": "stream",
     "text": [
      "100%|██████████████████████████████████████████████████████████████████████████████| 995/995 [00:00<00:00, 6000.39it/s]\n"
     ]
    },
    {
     "name": "stdout",
     "output_type": "stream",
     "text": [
      "          0         1         2         3         4         5         6  \\\n",
      "0  0.110006 -0.340048  0.217210  0.602081 -0.179915 -0.199424  0.547419   \n",
      "1 -0.433494  0.484215 -0.917966  0.627621  1.045381  0.827984 -0.742064   \n",
      "2  0.117698  0.498255 -0.587245  0.254999  0.423149  0.621439 -0.596763   \n",
      "3  0.243186  0.477008 -1.636270  1.994554  1.302594  1.555737 -1.355817   \n",
      "4  0.193921  0.395298  0.140829 -0.279008 -1.581837 -0.339016  0.364526   \n",
      "5  0.426475  2.306571 -2.326721  2.622841  2.734969  1.624219 -1.082349   \n",
      "6  1.170016  0.929074  0.563551 -0.300005 -0.138864  0.002310 -0.276778   \n",
      "7  0.858561  1.231456  0.153316 -0.208385  0.396929  0.272978 -0.529240   \n",
      "8 -0.587620 -0.003822 -0.264390  1.813278 -0.098420  0.713054 -0.911571   \n",
      "9 -0.162171 -0.228098  0.809588  0.092860  0.103259 -0.258984 -0.056962   \n",
      "\n",
      "          7         8         9  ...       191       192       193       194  \\\n",
      "0 -0.169502 -0.006403 -0.259487  ...  0.056849  0.093774  0.855928 -0.185523   \n",
      "1  0.940841  1.337563 -0.899373  ...  0.907399 -0.927562 -0.487111  1.007544   \n",
      "2  0.846353  1.168665 -0.641977  ...  0.670875 -0.629211 -0.416198  0.835715   \n",
      "3  1.428262  1.258134 -1.403121  ...  1.489219 -1.091546 -0.937780  1.284790   \n",
      "4 -0.387749 -0.686783 -0.245202  ... -0.128453  0.556118  0.441791 -0.328170   \n",
      "5  1.351466  1.595985 -1.348331  ...  2.610884 -1.355438  0.190191  1.660708   \n",
      "6  0.267806  0.024387 -0.181220  ...  0.158356  0.080690 -0.271069 -0.063626   \n",
      "7  0.414248  0.314693 -0.106745  ...  0.451867 -0.093097 -0.065308  0.057250   \n",
      "8  0.864905  0.501296 -1.245993  ...  0.586355 -1.228892 -1.201690  0.998810   \n",
      "9 -0.079337 -0.456178  0.127888  ... -0.569264  0.392227  1.453126 -0.157035   \n",
      "\n",
      "        195       196       197       198       199  emotion  \n",
      "0  0.603275  0.364857  0.236957  0.127807 -0.462686        0  \n",
      "1  0.378621 -1.094081 -1.026815 -0.458693  0.761764        0  \n",
      "2  0.482011 -1.090226 -0.868948 -0.353507  0.728094        0  \n",
      "3  0.860796 -0.938737 -1.178727 -0.154974  1.337547        0  \n",
      "4 -0.223263  0.183202  0.402727 -0.787799 -0.101845        0  \n",
      "5  0.355029 -0.933352 -1.297694 -1.201561  1.870513        0  \n",
      "6  0.128751 -0.211087  0.095588  0.023537  0.466899        0  \n",
      "7  0.189816 -0.418178 -0.207106 -0.290113  0.584994        0  \n",
      "8  0.375447 -0.962410 -0.942146 -0.873699  1.258621        0  \n",
      "9 -0.242252  0.269347 -0.072030  1.039838  0.161788        0  \n",
      "\n",
      "[10 rows x 201 columns]\n",
      "(995, 201)\n"
     ]
    }
   ],
   "source": [
    "#Vectorize Cross Validate\n",
    "list_of_sent= data_cv[\"text\"]\n",
    "listof_sent_vec=[]\n",
    "\n",
    "for sent in tqdm(list_of_sent): \n",
    "    sent_vec = np.zeros(200) \n",
    "    cnt_words =0; \n",
    "    for word in sent: \n",
    "        if word in w2v_words:\n",
    "            vec = w2v_model.wv[word]\n",
    "            sent_vec += vec\n",
    "            cnt_words += 1\n",
    "    if cnt_words != 0:\n",
    "        sent_vec /= cnt_words\n",
    "    listof_sent_vec.append(sent_vec)\n",
    "    \n",
    "Label = data_cv[\"emotion\"]\n",
    "list_col=tuple(range(200))\n",
    "cv_vec = Scaler.transform(listof_sent_vec)\n",
    "W2v_data_cv=pd.DataFrame(data=cv_vec, columns=list_col)\n",
    "W2v_data_cv[\"emotion\"] = Label\n",
    "print(W2v_data_cv.head(10))\n",
    "print(W2v_data_cv.shape)\n",
    "\n",
    "\n",
    "#test\n",
    "list_of_sent= data_test[\"text\"]\n",
    "listof_sent_vec=[]\n",
    "\n",
    "for sent in tqdm(list_of_sent): \n",
    "    sent_vec = np.zeros(200) \n",
    "    cnt_words =0; \n",
    "    for word in sent: \n",
    "        if word in w2v_words:\n",
    "            vec = w2v_model.wv[word]\n",
    "            sent_vec += vec\n",
    "            cnt_words += 1\n",
    "    if cnt_words != 0:\n",
    "        sent_vec /= cnt_words\n",
    "    listof_sent_vec.append(sent_vec)\n",
    "    \n",
    "Label = data_test[\"emotion\"]\n",
    "list_col=tuple(range(200))\n",
    "test_vec = Scaler.transform(listof_sent_vec)\n",
    "W2v_data_test=pd.DataFrame(data=test_vec, columns=list_col)\n",
    "W2v_data_test[\"emotion\"] = Label\n",
    "print(W2v_data_test.head(10))\n",
    "print(W2v_data_test.shape)"
   ]
  },
  {
   "cell_type": "code",
   "execution_count": 16,
   "metadata": {},
   "outputs": [
    {
     "name": "stdout",
     "output_type": "stream",
     "text": [
      "Final shape of Train X and y for word2vec: (2394, 200) (2394,)\n",
      "Final shape of CV X and y for word2vec: (228, 200) (228,)\n",
      "Final shape of Test X and y for word2vec: (995, 200) (995,)\n"
     ]
    }
   ],
   "source": [
    "X_train_w2v = W2v_data_train.drop(\"emotion\",axis=1).to_numpy()\n",
    "y_train_w2v = W2v_data_train[\"emotion\"].to_numpy()\n",
    "\n",
    "X_cv_w2v = W2v_data_cv.drop(\"emotion\",axis=1).to_numpy()\n",
    "y_cv_w2v = W2v_data_cv[\"emotion\"].to_numpy()\n",
    "\n",
    "X_test_w2v = W2v_data_test.drop(\"emotion\",axis=1).to_numpy()\n",
    "y_test_w2v = W2v_data_test[\"emotion\"].to_numpy()\n",
    "\n",
    "print(\"Final shape of Train X and y for word2vec:\",X_train_w2v.shape,y_train_w2v.shape)\n",
    "print(\"Final shape of CV X and y for word2vec:\",X_cv_w2v.shape,y_cv_w2v.shape)\n",
    "print(\"Final shape of Test X and y for word2vec:\",X_test_w2v.shape,y_test_w2v.shape)"
   ]
  },
  {
   "cell_type": "markdown",
   "metadata": {},
   "source": [
    "## Text Vectorization(bag of words)"
   ]
  },
  {
   "cell_type": "code",
   "execution_count": 17,
   "metadata": {},
   "outputs": [
    {
     "name": "stdout",
     "output_type": "stream",
     "text": [
      "Final shape of Train X and y for bag of words: (2394, 20970) (2394,)\n",
      "Final shape of CV X and y for bag of words: (228, 20970) (228,)\n",
      "Final shape of Test X and y for bag of words: (995, 20970) (995,)\n"
     ]
    }
   ],
   "source": [
    "from sklearn.feature_extraction.text import CountVectorizer\n",
    "from sklearn.preprocessing import normalize\n",
    "\n",
    "#Train bag of words\n",
    "bow_model = CountVectorizer(ngram_range=(1,2))\n",
    "bow_model.fit(data_train_bow[\"text\"])\n",
    "\n",
    "X_train_bow = normalize(bow_model.transform(data_train_bow[\"text\"])).tocsr()\n",
    "y_train_bow = data_train_bow[\"emotion\"].to_numpy()\n",
    "\n",
    "X_cv_bow = normalize(bow_model.transform(data_cv_bow[\"text\"])).tocsr()\n",
    "y_cv_bow = data_cv_bow[\"emotion\"].to_numpy()\n",
    "\n",
    "X_test_bow = normalize(bow_model.transform(data_test_bow[\"text\"])).tocsr()\n",
    "y_test_bow = data_test_bow[\"emotion\"].to_numpy()\n",
    "\n",
    "print(\"Final shape of Train X and y for bag of words:\",X_train_bow.shape,y_train_bow.shape)\n",
    "print(\"Final shape of CV X and y for bag of words:\",X_cv_bow.shape,y_cv_bow.shape)\n",
    "print(\"Final shape of Test X and y for bag of words:\",X_test_bow.shape,y_test_bow.shape)"
   ]
  },
  {
   "cell_type": "markdown",
   "metadata": {},
   "source": [
    "## Modelling"
   ]
  },
  {
   "cell_type": "markdown",
   "metadata": {},
   "source": [
    "###  Preparation"
   ]
  },
  {
   "cell_type": "code",
   "execution_count": 18,
   "metadata": {},
   "outputs": [],
   "source": [
    "from sklearn.metrics import accuracy_score\n",
    "from sklearn.metrics import confusion_matrix\n",
    "from sklearn.metrics import f1_score\n",
    "\n",
    "def showCnfMat(y_true,y_pred):\n",
    "    mat = confusion_matrix(y_true,y_pred)\n",
    "    for arr in mat:\n",
    "        print(\" \".join(list(map(str, arr))))\n",
    "        \n",
    "def plotHyperparameterScores(values,scores,scoring=\"accuracy\",parameter=\"Lamda\"):\n",
    "    if(scoring==\"f1\"):\n",
    "        bestScore = min(scores)\n",
    "    elif(scoring==\"accuracy\"):\n",
    "        bestScore = max(scores)\n",
    "    index = scores.index(bestScore)\n",
    "    val = values[index]\n",
    "    plt.plot(values,scores)\n",
    "    plt.show()\n",
    "    print(f\"Best Score at {parameter}: {val}\")\n",
    "    return val"
   ]
  },
  {
   "cell_type": "markdown",
   "metadata": {},
   "source": [
    "### KNN"
   ]
  },
  {
   "cell_type": "code",
   "execution_count": 19,
   "metadata": {},
   "outputs": [
    {
     "data": {
      "image/png": "[encoded data removed]",
      "text/plain": [
       "<Figure size 432x288 with 1 Axes>"
      ]
     },
     "metadata": {
      "needs_background": "light"
     },
     "output_type": "display_data"
    },
    {
     "name": "stdout",
     "output_type": "stream",
     "text": [
      "Best Score at K: 5\n",
      "Final accuracy on train data: 0.6441102756892231\n",
      "Final accuracy on CV data: 0.4473684210526316\n",
      "Final accuracy on test data: 0.41608040201005025\n",
      "\n",
      "Confusion Matrix on Test Data:\n",
      "110 80 31 25\n",
      "61 126 29 21\n",
      "54 62 101 22\n",
      "70 82 44 77\n"
     ]
    }
   ],
   "source": [
    "from sklearn.neighbors import KNeighborsClassifier\n",
    "\n",
    "k_values = range(1,100,2)\n",
    "cv_scores= []\n",
    "\n",
    "for k in k_values:\n",
    "    knn = KNeighborsClassifier(n_neighbors=k, weights=\"uniform\", p=2)\n",
    "    knn.fit(X_train_w2v,y_train_w2v)\n",
    "    y_pred = knn.predict(X_cv_w2v)\n",
    "    cv_scores.append(accuracy_score(y_cv_w2v,y_pred))\n",
    "    \n",
    "optimal_k = plotHyperparameterScores(k_values,cv_scores,\"accuracy\",\"K\")\n",
    "knn_model = KNeighborsClassifier(n_neighbors=optimal_k, weights=\"uniform\", p=2)\n",
    "knn_model.fit(X_train_w2v, y_train_w2v)\n",
    "\n",
    "y_predTrain= knn_model.predict(X_train_w2v)\n",
    "y_predCV = knn_model.predict(X_cv_w2v)\n",
    "y_predTest = knn_model.predict(X_test_w2v)\n",
    "accTrain = accuracy_score(y_train_w2v, y_predTrain)\n",
    "accCV = accuracy_score(y_cv_w2v, y_predCV)\n",
    "accTest = accuracy_score(y_test_w2v, y_predTest)\n",
    "print(\"Final accuracy on train data:\",accTrain)\n",
    "print(\"Final accuracy on CV data:\",accCV)\n",
    "print(\"Final accuracy on test data:\",accTest)\n",
    "\n",
    "print(\"\\nConfusion Matrix on Test Data:\")\n",
    "showCnfMat(y_test_w2v,y_predTest)"
   ]
  },
  {
   "cell_type": "markdown",
   "metadata": {},
   "source": [
    "### Logistic Regression"
   ]
  },
  {
   "cell_type": "code",
   "execution_count": 20,
   "metadata": {},
   "outputs": [
    {
     "data": {
      "image/png": "[encoded data removed]",
      "text/plain": [
       "<Figure size 432x288 with 1 Axes>"
      ]
     },
     "metadata": {
      "needs_background": "light"
     },
     "output_type": "display_data"
    },
    {
     "name": "stdout",
     "output_type": "stream",
     "text": [
      "Best Score at C: 100000\n",
      "Final accuracy on train data: 0.9899749373433584\n",
      "Final accuracy on CV data: 0.9035087719298246\n",
      "Final accuracy on test data: 0.821105527638191\n",
      "\n",
      "Confusion Matrix on Test Data:\n",
      "195 22 11 18\n",
      "14 193 10 20\n",
      "6 15 214 4\n",
      "19 31 8 215\n"
     ]
    }
   ],
   "source": [
    "from sklearn.linear_model import LogisticRegression\n",
    "\n",
    "C_values=[10**-1,10**0,10**1,10**2,10**4,10**5,10**6]\n",
    "cv_scores = []\n",
    "\n",
    "for C in C_values:\n",
    "    LR = LogisticRegression(C=C, solver=\"liblinear\",multi_class=\"auto\")\n",
    "    LR.fit(X_train_bow,y_train_bow)\n",
    "    y_pred = LR.predict(X_cv_bow)\n",
    "    cv_scores.append(accuracy_score(y_cv_bow,y_pred))\n",
    "    \n",
    "optimal_C = plotHyperparameterScores(C_values,cv_scores,\"accuracy\",\"C\")\n",
    "LR_model = LogisticRegression(C=optimal_C, solver=\"liblinear\",multi_class=\"auto\")\n",
    "LR_model.fit(X_train_bow, y_train_bow)\n",
    "\n",
    "y_predTrain= LR_model.predict(X_train_bow)\n",
    "y_predCV = LR_model.predict(X_cv_bow)\n",
    "y_predTest = LR_model.predict(X_test_bow)\n",
    "accTrain = accuracy_score(y_train_bow, y_predTrain)\n",
    "accCV = accuracy_score(y_cv_bow, y_predCV)\n",
    "accTest = accuracy_score(y_test_bow, y_predTest)\n",
    "print(\"Final accuracy on train data:\",accTrain)\n",
    "print(\"Final accuracy on CV data:\",accCV)\n",
    "print(\"Final accuracy on test data:\",accTest)\n",
    "\n",
    "print(\"\\nConfusion Matrix on Test Data:\")\n",
    "showCnfMat(y_test_bow,y_predTest)"
   ]
  },
  {
   "cell_type": "markdown",
   "metadata": {},
   "source": [
    "### Multinomial Naive Bayes"
   ]
  },
  {
   "cell_type": "code",
   "execution_count": 21,
   "metadata": {},
   "outputs": [
    {
     "data": {
      "image/png": "[encoded data removed]",
      "text/plain": [
       "<Figure size 432x288 with 1 Axes>"
      ]
     },
     "metadata": {
      "needs_background": "light"
     },
     "output_type": "display_data"
    },
    {
     "name": "stdout",
     "output_type": "stream",
     "text": [
      "Best Score at alpha: 0.1\n",
      "Final accuracy on train data: 0.9899749373433584\n",
      "Final accuracy on CV data: 0.7763157894736842\n",
      "Final accuracy on test data: 0.735678391959799\n",
      "\n",
      "Confusion Matrix on Test Data:\n",
      "191 35 7 13\n",
      "22 193 8 14\n",
      "11 31 186 11\n",
      "27 70 14 162\n"
     ]
    }
   ],
   "source": [
    "from sklearn.naive_bayes import MultinomialNB\n",
    "\n",
    "alpha_values=[10**-3,10**-2,10**-1,10**0,10**1,10**2,10**3]\n",
    "cv_scores = []\n",
    "\n",
    "for alpha in alpha_values:\n",
    "    NB = MultinomialNB(alpha=alpha)\n",
    "    NB.fit(X_train_bow,y_train_bow)\n",
    "    y_pred = NB.predict(X_cv_bow)\n",
    "    cv_scores.append(accuracy_score(y_cv_bow,y_pred))\n",
    "    \n",
    "optimal_alpha = plotHyperparameterScores(alpha_values,cv_scores,\"accuracy\",\"alpha\")\n",
    "NB_model = MultinomialNB(alpha=optimal_alpha)\n",
    "NB_model.fit(X_train_bow, y_train_bow)\n",
    "\n",
    "y_predTrain= NB_model.predict(X_train_bow)\n",
    "y_predCV = NB_model.predict(X_cv_bow)\n",
    "y_predTest = NB_model.predict(X_test_bow)\n",
    "accTrain = accuracy_score(y_train_bow, y_predTrain)\n",
    "accCV = accuracy_score(y_cv_bow, y_predCV)\n",
    "accTest = accuracy_score(y_test_bow, y_predTest)\n",
    "print(\"Final accuracy on train data:\",accTrain)\n",
    "print(\"Final accuracy on CV data:\",accCV)\n",
    "print(\"Final accuracy on test data:\",accTest)\n",
    "\n",
    "print(\"\\nConfusion Matrix on Test Data:\")\n",
    "showCnfMat(y_test_bow,y_predTest)"
   ]
  },
  {
   "cell_type": "markdown",
   "metadata": {},
   "source": [
    "### Random Forest"
   ]
  },
  {
   "cell_type": "code",
   "execution_count": 22,
   "metadata": {},
   "outputs": [
    {
     "name": "stdout",
     "output_type": "stream",
     "text": [
      "Final accuracy on train data: 0.9883040935672515\n",
      "Final accuracy on CV data: 0.4956140350877193\n",
      "Final accuracy on test data: 0.4321608040201005\n",
      "\n",
      "Confusion Matrix on Test Data:\n",
      "100 125 10 11\n",
      "31 188 5 13\n",
      "42 113 77 7\n",
      "43 156 9 65\n"
     ]
    }
   ],
   "source": [
    "from sklearn.ensemble import RandomForestClassifier\n",
    "   \n",
    "RF_model = RandomForestClassifier(n_estimators=1000,max_depth=None)\n",
    "RF_model.fit(X_train_w2v,y_train_w2v)\n",
    "\n",
    "y_predTrain= RF_model.predict(X_train_w2v)\n",
    "y_predCV = RF_model.predict(X_cv_w2v)\n",
    "y_predTest = RF_model.predict(X_test_w2v)\n",
    "accTrain = accuracy_score(y_train_w2v, y_predTrain)\n",
    "accCV = accuracy_score(y_cv_w2v, y_predCV)\n",
    "accTest = accuracy_score(y_test_w2v, y_predTest)\n",
    "print(\"Final accuracy on train data:\",accTrain)\n",
    "print(\"Final accuracy on CV data:\",accCV)\n",
    "print(\"Final accuracy on test data:\",accTest)\n",
    "\n",
    "print(\"\\nConfusion Matrix on Test Data:\")\n",
    "showCnfMat(y_test_w2v,y_predTest)"
   ]
  },
  {
   "cell_type": "markdown",
   "metadata": {},
   "source": [
    "### SVM(bow)"
   ]
  },
  {
   "cell_type": "code",
   "execution_count": 23,
   "metadata": {},
   "outputs": [
    {
     "data": {
      "image/png": "[encoded data removed]",
      "text/plain": [
       "<Figure size 432x288 with 1 Axes>"
      ]
     },
     "metadata": {
      "needs_background": "light"
     },
     "output_type": "display_data"
    },
    {
     "name": "stdout",
     "output_type": "stream",
     "text": [
      "Best Score at C: 10\n",
      "Final accuracy on train data: 0.9899749373433584\n",
      "Final accuracy on CV data: 0.9078947368421053\n",
      "Final accuracy on test data: 0.8251256281407036\n",
      "\n",
      "Confusion Matrix on Test Data:\n",
      "196 22 10 18\n",
      "14 192 11 20\n",
      "5 14 217 3\n",
      "17 30 10 216\n"
     ]
    }
   ],
   "source": [
    "from sklearn.svm import LinearSVC\n",
    "\n",
    "C_values=[10**0,10,20,50,80,10**2,120,200,500]\n",
    "cv_scores = []\n",
    "\n",
    "for C in C_values:\n",
    "    SVM = LinearSVC(C = C, dual=False)\n",
    "    SVM.fit(X_train_bow,y_train_bow)\n",
    "    y_pred = SVM.predict(X_cv_bow)\n",
    "    cv_scores.append(accuracy_score(y_cv_bow,y_pred))\n",
    "    \n",
    "optimal_C_SVM = plotHyperparameterScores(C_values,cv_scores,\"accuracy\",\"C\")\n",
    "SVM_model = LinearSVC(C = optimal_C_SVM, dual=False)\n",
    "SVM_model.fit(X_train_bow, y_train_bow)\n",
    "\n",
    "y_predTrain= SVM_model.predict(X_train_bow)\n",
    "y_predCV = SVM_model.predict(X_cv_bow)\n",
    "y_predTest = SVM_model.predict(X_test_bow)\n",
    "accTrain = accuracy_score(y_train_bow, y_predTrain)\n",
    "accCV = accuracy_score(y_cv_bow, y_predCV)\n",
    "accTest = accuracy_score(y_test_bow, y_predTest)\n",
    "print(\"Final accuracy on train data:\",accTrain)\n",
    "print(\"Final accuracy on CV data:\",accCV)\n",
    "print(\"Final accuracy on test data:\",accTest)\n",
    "\n",
    "print(\"\\nConfusion Matrix on Test Data:\")\n",
    "showCnfMat(y_test_bow,y_predTest)"
   ]
  },
  {
   "cell_type": "markdown",
   "metadata": {},
   "source": [
    "## SVM(w2v)"
   ]
  },
  {
   "cell_type": "code",
   "execution_count": 25,
   "metadata": {},
   "outputs": [
    {
     "data": {
      "image/png": "[encoded data removed]",
      "text/plain": [
       "<Figure size 432x288 with 1 Axes>"
      ]
     },
     "metadata": {
      "needs_background": "light"
     },
     "output_type": "display_data"
    },
    {
     "name": "stdout",
     "output_type": "stream",
     "text": [
      "Best Score at C: 1\n",
      "Final accuracy on train data: 0.7309941520467836\n",
      "Final accuracy on CV data: 0.6842105263157895\n",
      "Final accuracy on test data: 0.6422110552763819\n",
      "\n",
      "Confusion Matrix on Test Data:\n",
      "148 40 32 26\n",
      "30 156 32 19\n",
      "15 26 181 17\n",
      "40 54 25 154\n"
     ]
    }
   ],
   "source": [
    "C_values=[1,10,40,60,100]\n",
    "cv_scores = []\n",
    "\n",
    "for C in C_values:\n",
    "    SVM = LinearSVC(C = C, dual=False)\n",
    "    SVM.fit(X_train_w2v,y_train_w2v)\n",
    "    y_pred = SVM.predict(X_cv_w2v)\n",
    "    cv_scores.append(accuracy_score(y_cv_w2v,y_pred))\n",
    "    \n",
    "optimal_C_SVM = plotHyperparameterScores(C_values,cv_scores,\"accuracy\",\"C\")\n",
    "SVM_modelW2v = LinearSVC(C = optimal_C_SVM, dual=False)\n",
    "SVM_modelW2v.fit(X_train_w2v, y_train_w2v)\n",
    "\n",
    "y_predTrain= SVM_modelW2v.predict(X_train_w2v)\n",
    "y_predCV = SVM_modelW2v.predict(X_cv_w2v)\n",
    "y_predTest = SVM_modelW2v.predict(X_test_w2v)\n",
    "accTrain = accuracy_score(y_train_w2v, y_predTrain)\n",
    "accCV = accuracy_score(y_cv_w2v, y_predCV)\n",
    "accTest = accuracy_score(y_test_w2v, y_predTest)\n",
    "print(\"Final accuracy on train data:\",accTrain)\n",
    "print(\"Final accuracy on CV data:\",accCV)\n",
    "print(\"Final accuracy on test data:\",accTest)\n",
    "\n",
    "print(\"\\nConfusion Matrix on Test Data:\")\n",
    "showCnfMat(y_test_w2v,y_predTest)"
   ]
  },
  {
   "cell_type": "markdown",
   "metadata": {},
   "source": [
    "### Stacking Classifiers"
   ]
  },
  {
   "cell_type": "code",
   "execution_count": 45,
   "metadata": {},
   "outputs": [
    {
     "data": {
      "image/png": "[encoded data removed]",
      "text/plain": [
       "<Figure size 432x288 with 1 Axes>"
      ]
     },
     "metadata": {
      "needs_background": "light"
     },
     "output_type": "display_data"
    },
    {
     "name": "stdout",
     "output_type": "stream",
     "text": [
      "Best Score at C: 0.1\n",
      "Final accuracy on train data: 0.9887218045112782\n",
      "Final accuracy on CV data: 0.8947368421052632\n",
      "Final accuracy on test data: 0.8030150753768844\n",
      "\n",
      "Confusion Matrix on Test Data:\n",
      "191 31 6 18\n",
      "13 193 11 20\n",
      "5 24 199 11\n",
      "14 37 6 216\n"
     ]
    }
   ],
   "source": [
    "from mlxtend.classifier import StackingClassifier\n",
    "\n",
    "LR = LogisticRegression(C=10**5, solver=\"liblinear\", multi_class=\"auto\")\n",
    "SVM= LinearSVC(C=10, dual=False)\n",
    "NB = MultinomialNB(alpha=0.1)\n",
    "\n",
    "\n",
    "C = [10**-2,0.05,0.1,0.5,1,10**1]\n",
    "cv_scores = []\n",
    "\n",
    "for c in C:\n",
    "    meta = LogisticRegression(C = c, solver=\"liblinear\", multi_class=\"auto\")\n",
    "    S_clf = StackingClassifier(classifiers=[LR,SVM,NB], meta_classifier=meta)\n",
    "    S_clf.fit(X_train_bow,y_train_bow)\n",
    "    y_pred = S_clf.predict(X_cv_bow)\n",
    "    cv_scores.append(accuracy_score(y_cv_bow, y_pred))\n",
    "    \n",
    "optimal_C_sclf = plotHyperparameterScores(C,cv_scores,\"accuracy\",\"C\")\n",
    "meta = LogisticRegression(C=optimal_C_sclf,solver=\"liblinear\",multi_class=\"auto\")\n",
    "Stack_model = StackingClassifier(classifiers=[LR,SVM,NB], meta_classifier=meta)\n",
    "Stack_model.fit(X_train_bow, y_train_bow)\n",
    "\n",
    "y_predTrain= Stack_model.predict(X_train_bow)\n",
    "y_predCV = Stack_model.predict(X_cv_bow)\n",
    "y_predTest = Stack_model.predict(X_test_bow)\n",
    "accTrain = accuracy_score(y_train_bow, y_predTrain)\n",
    "accCV = accuracy_score(y_cv_bow, y_predCV)\n",
    "accTest = accuracy_score(y_test_bow, y_predTest)\n",
    "print(\"Final accuracy on train data:\",accTrain)\n",
    "print(\"Final accuracy on CV data:\",accCV)\n",
    "print(\"Final accuracy on test data:\",accTest)\n",
    "\n",
    "print(\"\\nConfusion Matrix on Test Data:\")\n",
    "showCnfMat(y_test_bow,y_predTest)"
   ]
  },
  {
   "cell_type": "markdown",
   "metadata": {},
   "source": [
    "## Initial Check"
   ]
  },
  {
   "cell_type": "code",
   "execution_count": null,
   "metadata": {},
   "outputs": [],
   "source": [
    "user_text = input()\n",
    "\n",
    "tags = re.compile(\"^@[a-zA-Z_]*\")\n",
    "user_text = re.sub(tags,\" \",user_text)\n",
    "hashtags = re.compile(\"#|\\*\")\n",
    "user_text = re.sub(hashtags,\"\",user_text)\n",
    "extraCharacters = re.compile(\"[^a-zA-Z]\")\n",
    "user_text = re.sub(extraCharacters,\" \",user_text)\n",
    "    \n",
    "filtered_text=\"\"\n",
    "for word in user_text.split():\n",
    "    word=word.lower()\n",
    "    if(word not in stop_bow):\n",
    "        word = sno.stem(word)\n",
    "        filtered_text+=\" \"+word\n",
    "\n",
    "X = normalize(bow_model.transform([filtered_text])).tocsr()\n",
    "Y = SVM_model.predict(X)\n",
    "Y = Y[0]\n",
    "if(Y==0):\n",
    "    print(\"Anger\")\n",
    "elif(Y==1):\n",
    "    print(\"Fear\")\n",
    "elif(Y==2):\n",
    "    print(\"Joy\")\n",
    "else:\n",
    "    print(\"Sadness\")"
   ]
  }
 ],
 "metadata": {
  "kernelspec": {
   "display_name": "Python 3",
   "language": "python",
   "name": "python3"
  },
  "language_info": {
   "codemirror_mode": {
    "name": "ipython",
    "version": 3
   },
   "file_extension": ".py",
   "mimetype": "text/x-python",
   "name": "python",
   "nbconvert_exporter": "python",
   "pygments_lexer": "ipython3",
   "version": "3.7.3"
  }
 },
 "nbformat": 4,
 "nbformat_minor": 2
}
